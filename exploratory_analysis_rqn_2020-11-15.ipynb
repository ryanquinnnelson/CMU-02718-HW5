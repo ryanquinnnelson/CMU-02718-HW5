{
 "cells": [
  {
   "cell_type": "markdown",
   "metadata": {},
   "source": [
    "### Imports and Functions"
   ]
  },
  {
   "cell_type": "code",
   "execution_count": 16,
   "metadata": {
    "id": "7OLMsR3gviP7"
   },
   "outputs": [],
   "source": [
    "import seaborn as sns\n",
    "import pandas as pd\n",
    "import matplotlib.pyplot as plt\n",
    "import packages.vaccine.helper as hp  # my custom package"
   ]
  },
  {
   "cell_type": "markdown",
   "metadata": {
    "id": "7wDEOIaDvg_S"
   },
   "source": [
    "# **Part 1.1 MHC I**\n"
   ]
  },
  {
   "cell_type": "markdown",
   "metadata": {
    "id": "0FhoM6LyyXmz"
   },
   "source": [
    "# Part 1.1.1: Work\n",
    "\n",
    "*TODO:\n",
    "Create and train a regression model for predicting pIC50 values for the data in MHCI_Binding_Data.csv*\n",
    "\n",
    "*NOTES:*\n",
    "1. *You only need to make predictions for the 27 alleles in hla_ref_set.class_i.csv*\n",
    "2. *There are several ways to approach this - please refer to the writeup for ideas/suggestions*\n",
    "\n",
    "*TODO:\n",
    "Create a table where each row corresponds to one of the MHC I binding affinity models above, and the final column is the coefficient of determination (i.e. $R^2$) of the model using 5-fold cross validation.*"
   ]
  },
  {
   "cell_type": "markdown",
   "metadata": {
    "id": "SGFj7y3Cw0x-"
   },
   "source": [
    "### 1.1.1. Read in MHC class 1 allele reference set"
   ]
  },
  {
   "cell_type": "code",
   "execution_count": 17,
   "metadata": {
    "id": "56lCB5a3vxob"
   },
   "outputs": [
    {
     "data": {
      "text/plain": [
       "27"
      ]
     },
     "execution_count": 17,
     "metadata": {},
     "output_type": "execute_result"
    }
   ],
   "source": [
    "PATH_TO_REF_SET = 'data/hla_ref_set.class_i.csv'\n",
    "ref_set_class_i = pd.read_csv(PATH_TO_REF_SET,header=None)\n",
    "\n",
    "# create a list of alleles\n",
    "class_i_list = ref_set_class_i[0].tolist()\n",
    "len(class_i_list)"
   ]
  },
  {
   "cell_type": "markdown",
   "metadata": {},
   "source": [
    "### 1.1.1. Data Exploration"
   ]
  },
  {
   "cell_type": "code",
   "execution_count": 18,
   "metadata": {
    "id": "u5s9dwi6vUXw"
   },
   "outputs": [
    {
     "name": "stdout",
     "output_type": "stream",
     "text": [
      "(157325, 6)\n"
     ]
    },
    {
     "data": {
      "text/html": [
       "<div>\n",
       "<style scoped>\n",
       "    .dataframe tbody tr th:only-of-type {\n",
       "        vertical-align: middle;\n",
       "    }\n",
       "\n",
       "    .dataframe tbody tr th {\n",
       "        vertical-align: top;\n",
       "    }\n",
       "\n",
       "    .dataframe thead th {\n",
       "        text-align: right;\n",
       "    }\n",
       "</style>\n",
       "<table border=\"1\" class=\"dataframe\">\n",
       "  <thead>\n",
       "    <tr style=\"text-align: right;\">\n",
       "      <th></th>\n",
       "      <th>species</th>\n",
       "      <th>HLA Allele</th>\n",
       "      <th>peptide_length</th>\n",
       "      <th>sequence</th>\n",
       "      <th>IC50 (nM concentration)</th>\n",
       "      <th>pIC50</th>\n",
       "    </tr>\n",
       "  </thead>\n",
       "  <tbody>\n",
       "    <tr>\n",
       "      <th>0</th>\n",
       "      <td>human</td>\n",
       "      <td>HLA-A*01:01</td>\n",
       "      <td>8</td>\n",
       "      <td>ASFCGSPY</td>\n",
       "      <td>51.400000</td>\n",
       "      <td>7.289037</td>\n",
       "    </tr>\n",
       "    <tr>\n",
       "      <th>1</th>\n",
       "      <td>human</td>\n",
       "      <td>HLA-A*01:01</td>\n",
       "      <td>8</td>\n",
       "      <td>LTDFGLSK</td>\n",
       "      <td>739.385479</td>\n",
       "      <td>6.131129</td>\n",
       "    </tr>\n",
       "  </tbody>\n",
       "</table>\n",
       "</div>"
      ],
      "text/plain": [
       "  species   HLA Allele  peptide_length  sequence  IC50 (nM concentration)  \\\n",
       "0   human  HLA-A*01:01               8  ASFCGSPY                51.400000   \n",
       "1   human  HLA-A*01:01               8  LTDFGLSK               739.385479   \n",
       "\n",
       "      pIC50  \n",
       "0  7.289037  \n",
       "1  6.131129  "
      ]
     },
     "execution_count": 18,
     "metadata": {},
     "output_type": "execute_result"
    }
   ],
   "source": [
    "# read in data\n",
    "PATH_TO_MHC1_DATA = 'data/MHCI_Binding_Data.csv'\n",
    "MHC1_df = pd.read_csv(PATH_TO_MHC1_DATA) \n",
    "print(MHC1_df.shape)\n",
    "MHC1_df.head(2)"
   ]
  },
  {
   "cell_type": "code",
   "execution_count": 19,
   "metadata": {},
   "outputs": [
    {
     "name": "stdout",
     "output_type": "stream",
     "text": [
      "119\n"
     ]
    }
   ],
   "source": [
    "# check whether there are other alleles present we don't care about (we care about 27)\n",
    "print(len(MHC1_df['HLA Allele'].unique()))"
   ]
  },
  {
   "cell_type": "code",
   "execution_count": 20,
   "metadata": {},
   "outputs": [
    {
     "name": "stdout",
     "output_type": "stream",
     "text": [
      "(111742, 6)\n"
     ]
    }
   ],
   "source": [
    "# filter out records which are not for the 27 listed alleles\n",
    "MHC1_filtered_df = MHC1_df[MHC1_df['HLA Allele'].isin(class_i_list)]\n",
    "print(MHC1_filtered_df.shape)"
   ]
  },
  {
   "cell_type": "code",
   "execution_count": 21,
   "metadata": {},
   "outputs": [
    {
     "data": {
      "text/plain": [
       "HLA-A*02:01    12160\n",
       "HLA-A*03:01     7358\n",
       "HLA-A*11:01     6399\n",
       "HLA-A*02:03     6303\n",
       "HLA-A*31:01     5713\n",
       "HLA-A*02:06     5628\n",
       "HLA-A*68:02     5545\n",
       "HLA-A*01:01     4792\n",
       "HLA-B*07:02     4642\n",
       "HLA-A*26:01     4535\n",
       "HLA-B*15:01     4448\n",
       "HLA-A*68:01     3795\n",
       "HLA-A*33:01     3597\n",
       "HLA-B*08:01     3538\n",
       "HLA-B*40:01     3443\n",
       "HLA-B*58:01     3350\n",
       "HLA-A*24:02     3280\n",
       "HLA-B*35:01     3211\n",
       "HLA-A*30:01     2925\n",
       "HLA-B*57:01     2903\n",
       "HLA-B*51:01     2901\n",
       "HLA-A*23:01     2641\n",
       "HLA-B*44:02     2318\n",
       "HLA-A*30:02     2057\n",
       "HLA-B*53:01     1720\n",
       "HLA-B*44:03     1404\n",
       "HLA-A*32:01     1136\n",
       "Name: HLA Allele, dtype: int64"
      ]
     },
     "execution_count": 21,
     "metadata": {},
     "output_type": "execute_result"
    }
   ],
   "source": [
    "# check how much data we have per allele\n",
    "MHC1_filtered_df['HLA Allele'].value_counts()"
   ]
  },
  {
   "cell_type": "code",
   "execution_count": 22,
   "metadata": {},
   "outputs": [
    {
     "name": "stdout",
     "output_type": "stream",
     "text": [
      "27\n"
     ]
    }
   ],
   "source": [
    "# determine if any of the 27 alleles are not represented (there aren't)\n",
    "print(len(MHC1_filtered_df['HLA Allele'].value_counts()))"
   ]
  },
  {
   "cell_type": "code",
   "execution_count": 23,
   "metadata": {},
   "outputs": [
    {
     "data": {
      "text/plain": [
       "8      1854\n",
       "9     83083\n",
       "10    24300\n",
       "11     1668\n",
       "12      140\n",
       "13      268\n",
       "14      168\n",
       "15      206\n",
       "17       27\n",
       "18       27\n",
       "30        1\n",
       "Name: peptide_length, dtype: int64"
      ]
     },
     "execution_count": 23,
     "metadata": {},
     "output_type": "execute_result"
    }
   ],
   "source": [
    "# check how much data we have per sequence length\n",
    "MHC1_filtered_df['peptide_length'].value_counts().sort_index()"
   ]
  },
  {
   "cell_type": "code",
   "execution_count": 24,
   "metadata": {},
   "outputs": [
    {
     "name": "stdout",
     "output_type": "stream",
     "text": [
      "0\n"
     ]
    }
   ],
   "source": [
    "# check whether we have any duplicate rows for a given sequence (there aren't)\n",
    "MHC1_grouped_df = MHC1_filtered_df.groupby(by=['HLA Allele','sequence']).count()\n",
    "MHC1_grouped_df = MHC1_grouped_df[MHC1_grouped_df['species'] > 1]\n",
    "print(MHC1_grouped_df.shape[0])"
   ]
  },
  {
   "cell_type": "code",
   "execution_count": 25,
   "metadata": {
    "scrolled": false
   },
   "outputs": [
    {
     "name": "stdout",
     "output_type": "stream",
     "text": [
      "27\n",
      "\n",
      "9    83083\n",
      "Name: peptide_length, dtype: int64\n"
     ]
    },
    {
     "data": {
      "text/plain": [
       "HLA-A*02:01    9051\n",
       "HLA-A*03:01    5488\n",
       "HLA-A*11:01    4544\n",
       "HLA-A*02:03    4428\n",
       "HLA-B*15:01    4101\n",
       "HLA-A*31:01    3945\n",
       "HLA-A*01:01    3902\n",
       "HLA-B*07:02    3868\n",
       "HLA-A*26:01    3766\n",
       "HLA-A*02:06    3733\n",
       "HLA-A*68:02    3672\n",
       "HLA-B*08:01    3027\n",
       "HLA-B*58:01    2984\n",
       "HLA-B*40:01    2824\n",
       "HLA-A*30:01    2565\n",
       "HLA-B*57:01    2529\n",
       "HLA-B*35:01    2514\n",
       "HLA-A*24:02    2395\n",
       "HLA-B*51:01    2239\n",
       "HLA-A*68:01    2036\n",
       "HLA-A*33:01    1929\n",
       "HLA-A*23:01    1915\n",
       "HLA-B*44:02    1682\n",
       "HLA-A*30:02    1330\n",
       "HLA-B*53:01    1052\n",
       "HLA-A*32:01     831\n",
       "HLA-B*44:03     733\n",
       "Name: HLA Allele, dtype: int64"
      ]
     },
     "execution_count": 25,
     "metadata": {},
     "output_type": "execute_result"
    }
   ],
   "source": [
    "# check whether there is data for each allele for sequences of only length 9\n",
    "MHC1_length_9_df = MHC1_filtered_df[MHC1_filtered_df['peptide_length']==9]\n",
    "print(len(MHC1_length_9_df['HLA Allele'].unique()))\n",
    "print()\n",
    "\n",
    "# confirm how much data we have per sequence length\n",
    "print(MHC1_length_9_df['peptide_length'].value_counts().sort_index())\n",
    "\n",
    "# check how much data we have per allele\n",
    "MHC1_length_9_df['HLA Allele'].value_counts()"
   ]
  },
  {
   "cell_type": "markdown",
   "metadata": {},
   "source": [
    "### 1.1.1. Data Prep\n",
    "Most of the data is concentrated with sequences of length 9 and 10. Let's use only sequences of length 9 to build the regression model."
   ]
  },
  {
   "cell_type": "code",
   "execution_count": 26,
   "metadata": {},
   "outputs": [
    {
     "data": {
      "text/plain": [
       "(83083, 6)"
      ]
     },
     "execution_count": 26,
     "metadata": {},
     "output_type": "execute_result"
    }
   ],
   "source": [
    "# read in data\n",
    "PATH_TO_MHC1_DATA = 'data/MHCI_Binding_Data.csv'\n",
    "MHC1_df = pd.read_csv(PATH_TO_MHC1_DATA) \n",
    "\n",
    "# filter out records with sequence length not equal to 9\n",
    "MHC1_df = MHC1_df[MHC1_df['peptide_length']==9]\n",
    "\n",
    "# filter out records which are not for the 27 listed alleles\n",
    "MHC1_df = MHC1_df[MHC1_df['HLA Allele'].isin(class_i_list)]\n",
    "\n",
    "MHC1_df.shape"
   ]
  },
  {
   "cell_type": "code",
   "execution_count": 27,
   "metadata": {
    "scrolled": false
   },
   "outputs": [
    {
     "data": {
      "text/html": [
       "<div>\n",
       "<style scoped>\n",
       "    .dataframe tbody tr th:only-of-type {\n",
       "        vertical-align: middle;\n",
       "    }\n",
       "\n",
       "    .dataframe tbody tr th {\n",
       "        vertical-align: top;\n",
       "    }\n",
       "\n",
       "    .dataframe thead th {\n",
       "        text-align: right;\n",
       "    }\n",
       "</style>\n",
       "<table border=\"1\" class=\"dataframe\">\n",
       "  <thead>\n",
       "    <tr style=\"text-align: right;\">\n",
       "      <th></th>\n",
       "      <th>species</th>\n",
       "      <th>HLA Allele</th>\n",
       "      <th>peptide_length</th>\n",
       "      <th>sequence</th>\n",
       "      <th>IC50 (nM concentration)</th>\n",
       "      <th>pIC50</th>\n",
       "      <th>seq_standard</th>\n",
       "    </tr>\n",
       "  </thead>\n",
       "  <tbody>\n",
       "    <tr>\n",
       "      <th>69</th>\n",
       "      <td>human</td>\n",
       "      <td>HLA-A*01:01</td>\n",
       "      <td>9</td>\n",
       "      <td>CSDAFYPFY</td>\n",
       "      <td>1.0</td>\n",
       "      <td>9.0</td>\n",
       "      <td>CSDAFYPFY</td>\n",
       "    </tr>\n",
       "    <tr>\n",
       "      <th>70</th>\n",
       "      <td>human</td>\n",
       "      <td>HLA-A*01:01</td>\n",
       "      <td>9</td>\n",
       "      <td>CSDETTLYY</td>\n",
       "      <td>1.0</td>\n",
       "      <td>9.0</td>\n",
       "      <td>CSDETTLYY</td>\n",
       "    </tr>\n",
       "  </tbody>\n",
       "</table>\n",
       "</div>"
      ],
      "text/plain": [
       "   species   HLA Allele  peptide_length   sequence  IC50 (nM concentration)  \\\n",
       "69   human  HLA-A*01:01               9  CSDAFYPFY                      1.0   \n",
       "70   human  HLA-A*01:01               9  CSDETTLYY                      1.0   \n",
       "\n",
       "    pIC50 seq_standard  \n",
       "69    9.0    CSDAFYPFY  \n",
       "70    9.0    CSDETTLYY  "
      ]
     },
     "execution_count": 27,
     "metadata": {},
     "output_type": "execute_result"
    }
   ],
   "source": [
    "# add a column with the standard 9-length sequence for every record\n",
    "MHC1_df.loc[:, ('seq_standard')]=MHC1_df.apply(lambda x: hp.get_n_length_seq(x['sequence'],9),axis=1)\n",
    "MHC1_df.head(2)"
   ]
  },
  {
   "cell_type": "markdown",
   "metadata": {},
   "source": [
    "###  1.1.1. Encode the sequence into feature columns\n",
    "- Split 9 sequence into one column per letter.\n",
    "- Use ASCII number for each letter to convert to numerical data to use for regression."
   ]
  },
  {
   "cell_type": "code",
   "execution_count": 28,
   "metadata": {
    "scrolled": false
   },
   "outputs": [
    {
     "data": {
      "text/html": [
       "<div>\n",
       "<style scoped>\n",
       "    .dataframe tbody tr th:only-of-type {\n",
       "        vertical-align: middle;\n",
       "    }\n",
       "\n",
       "    .dataframe tbody tr th {\n",
       "        vertical-align: top;\n",
       "    }\n",
       "\n",
       "    .dataframe thead th {\n",
       "        text-align: right;\n",
       "    }\n",
       "</style>\n",
       "<table border=\"1\" class=\"dataframe\">\n",
       "  <thead>\n",
       "    <tr style=\"text-align: right;\">\n",
       "      <th></th>\n",
       "      <th>species</th>\n",
       "      <th>HLA Allele</th>\n",
       "      <th>peptide_length</th>\n",
       "      <th>sequence</th>\n",
       "      <th>IC50 (nM concentration)</th>\n",
       "      <th>pIC50</th>\n",
       "      <th>seq_standard</th>\n",
       "      <th>s1</th>\n",
       "      <th>s2</th>\n",
       "      <th>s3</th>\n",
       "      <th>s4</th>\n",
       "      <th>s5</th>\n",
       "      <th>s6</th>\n",
       "      <th>s7</th>\n",
       "      <th>s8</th>\n",
       "      <th>s9</th>\n",
       "    </tr>\n",
       "  </thead>\n",
       "  <tbody>\n",
       "    <tr>\n",
       "      <th>69</th>\n",
       "      <td>human</td>\n",
       "      <td>HLA-A*01:01</td>\n",
       "      <td>9</td>\n",
       "      <td>CSDAFYPFY</td>\n",
       "      <td>1.0</td>\n",
       "      <td>9.0</td>\n",
       "      <td>CSDAFYPFY</td>\n",
       "      <td>67</td>\n",
       "      <td>83</td>\n",
       "      <td>68</td>\n",
       "      <td>65</td>\n",
       "      <td>70</td>\n",
       "      <td>89</td>\n",
       "      <td>80</td>\n",
       "      <td>70</td>\n",
       "      <td>89</td>\n",
       "    </tr>\n",
       "  </tbody>\n",
       "</table>\n",
       "</div>"
      ],
      "text/plain": [
       "   species   HLA Allele  peptide_length   sequence  IC50 (nM concentration)  \\\n",
       "69   human  HLA-A*01:01               9  CSDAFYPFY                      1.0   \n",
       "\n",
       "    pIC50 seq_standard  s1  s2  s3  s4  s5  s6  s7  s8  s9  \n",
       "69    9.0    CSDAFYPFY  67  83  68  65  70  89  80  70  89  "
      ]
     },
     "execution_count": 28,
     "metadata": {},
     "output_type": "execute_result"
    }
   ],
   "source": [
    "# encode letter as ASCII number\n",
    "col_list = ['s1','s2','s3','s4','s5','s6','s7','s8','s9']\n",
    "MHC1_df[col_list]=MHC1_df.seq_standard.apply(lambda x: pd.Series([ord(char) for char in str(x)]))\n",
    "MHC1_df.head(1)"
   ]
  },
  {
   "cell_type": "markdown",
   "metadata": {},
   "source": [
    "### 1.1.1. Data Visualization\n",
    "To help see what type of regression model best fits the data."
   ]
  },
  {
   "cell_type": "code",
   "execution_count": 29,
   "metadata": {},
   "outputs": [
    {
     "data": {
      "image/png": "[encoded data removed]",
      "text/plain": [
       "<Figure size 1440x720 with 27 Axes>"
      ]
     },
     "metadata": {
      "needs_background": "light"
     },
     "output_type": "display_data"
    }
   ],
   "source": [
    "hp.plot_separate_alleles(MHC1_df,class_i_list)\n"
   ]
  },
  {
   "cell_type": "markdown",
   "metadata": {},
   "source": [
    "### 1.1.1. Train Regression Models\n"
   ]
  },
  {
   "cell_type": "code",
   "execution_count": 30,
   "metadata": {},
   "outputs": [
    {
     "name": "stdout",
     "output_type": "stream",
     "text": [
      "CPU times: user 21.6 s, sys: 243 ms, total: 21.8 s\n",
      "Wall time: 22.3 s\n"
     ]
    }
   ],
   "source": [
    "%%time\n",
    "\n",
    "# for each of the 27 alleles, learn a separate regression model\n",
    "regression_scores_mhc1 = []\n",
    "for allele in class_i_list:\n",
    "    m,s = hp.score_regression_model(MHC1_df,allele)\n",
    "    result = [allele,round(s,5),round(m,5)] # std_dev before mean\n",
    "    regression_scores_mhc1.append(result)\n",
    "    "
   ]
  },
  {
   "cell_type": "markdown",
   "metadata": {},
   "source": [
    "### 1.1.1. Output Results"
   ]
  },
  {
   "cell_type": "code",
   "execution_count": 31,
   "metadata": {},
   "outputs": [
    {
     "name": "stdout",
     "output_type": "stream",
     "text": [
      "(27, 3)\n"
     ]
    },
    {
     "data": {
      "text/html": [
       "<div>\n",
       "<style scoped>\n",
       "    .dataframe tbody tr th:only-of-type {\n",
       "        vertical-align: middle;\n",
       "    }\n",
       "\n",
       "    .dataframe tbody tr th {\n",
       "        vertical-align: top;\n",
       "    }\n",
       "\n",
       "    .dataframe thead th {\n",
       "        text-align: right;\n",
       "    }\n",
       "</style>\n",
       "<table border=\"1\" class=\"dataframe\">\n",
       "  <thead>\n",
       "    <tr style=\"text-align: right;\">\n",
       "      <th></th>\n",
       "      <th>Allele</th>\n",
       "      <th>Std_dev</th>\n",
       "      <th>R_2</th>\n",
       "    </tr>\n",
       "  </thead>\n",
       "  <tbody>\n",
       "    <tr>\n",
       "      <th>0</th>\n",
       "      <td>HLA-A*01:01</td>\n",
       "      <td>0.02086</td>\n",
       "      <td>0.35360</td>\n",
       "    </tr>\n",
       "    <tr>\n",
       "      <th>1</th>\n",
       "      <td>HLA-A*02:01</td>\n",
       "      <td>0.01320</td>\n",
       "      <td>0.27606</td>\n",
       "    </tr>\n",
       "    <tr>\n",
       "      <th>2</th>\n",
       "      <td>HLA-A*02:03</td>\n",
       "      <td>0.01531</td>\n",
       "      <td>0.31211</td>\n",
       "    </tr>\n",
       "    <tr>\n",
       "      <th>3</th>\n",
       "      <td>HLA-A*02:06</td>\n",
       "      <td>0.03010</td>\n",
       "      <td>0.17000</td>\n",
       "    </tr>\n",
       "    <tr>\n",
       "      <th>4</th>\n",
       "      <td>HLA-A*03:01</td>\n",
       "      <td>0.01229</td>\n",
       "      <td>0.33590</td>\n",
       "    </tr>\n",
       "    <tr>\n",
       "      <th>5</th>\n",
       "      <td>HLA-A*11:01</td>\n",
       "      <td>0.02106</td>\n",
       "      <td>0.37462</td>\n",
       "    </tr>\n",
       "    <tr>\n",
       "      <th>6</th>\n",
       "      <td>HLA-A*23:01</td>\n",
       "      <td>0.02401</td>\n",
       "      <td>0.29890</td>\n",
       "    </tr>\n",
       "    <tr>\n",
       "      <th>7</th>\n",
       "      <td>HLA-A*24:02</td>\n",
       "      <td>0.04354</td>\n",
       "      <td>0.28921</td>\n",
       "    </tr>\n",
       "    <tr>\n",
       "      <th>8</th>\n",
       "      <td>HLA-A*26:01</td>\n",
       "      <td>0.01598</td>\n",
       "      <td>0.18308</td>\n",
       "    </tr>\n",
       "    <tr>\n",
       "      <th>9</th>\n",
       "      <td>HLA-A*30:01</td>\n",
       "      <td>0.03722</td>\n",
       "      <td>0.15079</td>\n",
       "    </tr>\n",
       "    <tr>\n",
       "      <th>10</th>\n",
       "      <td>HLA-A*30:02</td>\n",
       "      <td>0.09771</td>\n",
       "      <td>0.33859</td>\n",
       "    </tr>\n",
       "    <tr>\n",
       "      <th>11</th>\n",
       "      <td>HLA-A*31:01</td>\n",
       "      <td>0.01835</td>\n",
       "      <td>0.33852</td>\n",
       "    </tr>\n",
       "    <tr>\n",
       "      <th>12</th>\n",
       "      <td>HLA-A*32:01</td>\n",
       "      <td>0.03819</td>\n",
       "      <td>0.18953</td>\n",
       "    </tr>\n",
       "    <tr>\n",
       "      <th>13</th>\n",
       "      <td>HLA-A*33:01</td>\n",
       "      <td>0.01792</td>\n",
       "      <td>0.36979</td>\n",
       "    </tr>\n",
       "    <tr>\n",
       "      <th>14</th>\n",
       "      <td>HLA-A*68:01</td>\n",
       "      <td>0.03748</td>\n",
       "      <td>0.23150</td>\n",
       "    </tr>\n",
       "    <tr>\n",
       "      <th>15</th>\n",
       "      <td>HLA-A*68:02</td>\n",
       "      <td>0.03387</td>\n",
       "      <td>0.14563</td>\n",
       "    </tr>\n",
       "    <tr>\n",
       "      <th>16</th>\n",
       "      <td>HLA-B*07:02</td>\n",
       "      <td>0.03024</td>\n",
       "      <td>0.40548</td>\n",
       "    </tr>\n",
       "    <tr>\n",
       "      <th>17</th>\n",
       "      <td>HLA-B*08:01</td>\n",
       "      <td>0.02379</td>\n",
       "      <td>0.14862</td>\n",
       "    </tr>\n",
       "    <tr>\n",
       "      <th>18</th>\n",
       "      <td>HLA-B*15:01</td>\n",
       "      <td>0.03586</td>\n",
       "      <td>0.18927</td>\n",
       "    </tr>\n",
       "    <tr>\n",
       "      <th>19</th>\n",
       "      <td>HLA-B*35:01</td>\n",
       "      <td>0.03508</td>\n",
       "      <td>0.18460</td>\n",
       "    </tr>\n",
       "    <tr>\n",
       "      <th>20</th>\n",
       "      <td>HLA-B*40:01</td>\n",
       "      <td>0.01969</td>\n",
       "      <td>0.55201</td>\n",
       "    </tr>\n",
       "    <tr>\n",
       "      <th>21</th>\n",
       "      <td>HLA-B*44:02</td>\n",
       "      <td>0.03662</td>\n",
       "      <td>0.40879</td>\n",
       "    </tr>\n",
       "    <tr>\n",
       "      <th>22</th>\n",
       "      <td>HLA-B*44:03</td>\n",
       "      <td>0.05368</td>\n",
       "      <td>0.50702</td>\n",
       "    </tr>\n",
       "    <tr>\n",
       "      <th>23</th>\n",
       "      <td>HLA-B*51:01</td>\n",
       "      <td>0.01917</td>\n",
       "      <td>0.18812</td>\n",
       "    </tr>\n",
       "    <tr>\n",
       "      <th>24</th>\n",
       "      <td>HLA-B*53:01</td>\n",
       "      <td>0.04178</td>\n",
       "      <td>0.21006</td>\n",
       "    </tr>\n",
       "    <tr>\n",
       "      <th>25</th>\n",
       "      <td>HLA-B*57:01</td>\n",
       "      <td>0.05960</td>\n",
       "      <td>0.43066</td>\n",
       "    </tr>\n",
       "    <tr>\n",
       "      <th>26</th>\n",
       "      <td>HLA-B*58:01</td>\n",
       "      <td>0.05605</td>\n",
       "      <td>0.35509</td>\n",
       "    </tr>\n",
       "  </tbody>\n",
       "</table>\n",
       "</div>"
      ],
      "text/plain": [
       "         Allele  Std_dev      R_2\n",
       "0   HLA-A*01:01  0.02086  0.35360\n",
       "1   HLA-A*02:01  0.01320  0.27606\n",
       "2   HLA-A*02:03  0.01531  0.31211\n",
       "3   HLA-A*02:06  0.03010  0.17000\n",
       "4   HLA-A*03:01  0.01229  0.33590\n",
       "5   HLA-A*11:01  0.02106  0.37462\n",
       "6   HLA-A*23:01  0.02401  0.29890\n",
       "7   HLA-A*24:02  0.04354  0.28921\n",
       "8   HLA-A*26:01  0.01598  0.18308\n",
       "9   HLA-A*30:01  0.03722  0.15079\n",
       "10  HLA-A*30:02  0.09771  0.33859\n",
       "11  HLA-A*31:01  0.01835  0.33852\n",
       "12  HLA-A*32:01  0.03819  0.18953\n",
       "13  HLA-A*33:01  0.01792  0.36979\n",
       "14  HLA-A*68:01  0.03748  0.23150\n",
       "15  HLA-A*68:02  0.03387  0.14563\n",
       "16  HLA-B*07:02  0.03024  0.40548\n",
       "17  HLA-B*08:01  0.02379  0.14862\n",
       "18  HLA-B*15:01  0.03586  0.18927\n",
       "19  HLA-B*35:01  0.03508  0.18460\n",
       "20  HLA-B*40:01  0.01969  0.55201\n",
       "21  HLA-B*44:02  0.03662  0.40879\n",
       "22  HLA-B*44:03  0.05368  0.50702\n",
       "23  HLA-B*51:01  0.01917  0.18812\n",
       "24  HLA-B*53:01  0.04178  0.21006\n",
       "25  HLA-B*57:01  0.05960  0.43066\n",
       "26  HLA-B*58:01  0.05605  0.35509"
      ]
     },
     "execution_count": 31,
     "metadata": {},
     "output_type": "execute_result"
    }
   ],
   "source": [
    "# output results\n",
    "mhc1_regression_scores_df = pd.DataFrame(data=regression_scores_mhc1,columns = ['Allele','Std_dev','R_2'])\n",
    "print(mhc1_regression_scores_df.shape)\n",
    "mhc1_regression_scores_df\n"
   ]
  },
  {
   "cell_type": "markdown",
   "metadata": {
    "id": "5v8eLVsFyan0"
   },
   "source": [
    "## Part 1.1.1: Answer\n",
    "\n",
    "*Briefly describe your approach for creating the regression model. Include the table as the output of the cell above or embed it as an image in this cell.*\n",
    "\n",
    "#### Data\n",
    "First, I filtered out records from the MHC I binding data which were not for the alleles listed in the reference set. Additionally, I noticed that the vast majority of data for MHC I centered around a peptide length of 9, so I chose to limit my model to predicting pIC50 values for peptides of length 9. This allowed me to filter out records from the MHC I binding data which were not of length 9.\n",
    "\n",
    "From there, I encoded the peptide sequence by splitting each amino acid letter into its own column, the calculating the ASCII value for each letter. This results in a feature set of numerical values for the regression model.\n",
    "\n",
    "\n",
    "#### Regression Model\n",
    "I decided to create a different model for each allele in the reference set, rather than include the allele in the feature data. This ensures that the line of best fit found by the model is not influenced by the allele itself. By creating separate models, I prevent any relationship between alleles from manipulating the fit.\n",
    "\n",
    "I then attempted to visualize the features with PCA. This helped inform me that the data isn't really linear in nature. I chose to use a Random Forest regression for this reason, rather than use linear regression.\n",
    "\n"
   ]
  },
  {
   "cell_type": "markdown",
   "metadata": {
    "id": "9QGviJUGzcPa"
   },
   "source": [
    "# Part 1.1.2: Work"
   ]
  },
  {
   "cell_type": "markdown",
   "metadata": {},
   "source": [
    "*TODO: Create and train a regression model for predicting pIC50 values for the data in MHCII_Binding_Data.csv*\n",
    "\n",
    "*NOTES:*\n",
    "1. *You only need to make predictions for the 27 alleles in hla_ref_set.class_i.csv*\n",
    "2. *There are several ways to approach this - please refer to the writeup for ideas/suggestions*\n",
    "\n",
    "*TODO: Create a table where each row corresponds to one of the MHC II binding affinity models above, and the final column is the Coefficient of determination (ie. $R^2$) of the model using 5-fold cross validation.*"
   ]
  },
  {
   "cell_type": "markdown",
   "metadata": {
    "id": "SGFj7y3Cw0x-"
   },
   "source": [
    "### 1.1.2. Read in MHC class 2 allele reference set"
   ]
  },
  {
   "cell_type": "code",
   "execution_count": 32,
   "metadata": {
    "id": "56lCB5a3vxob"
   },
   "outputs": [
    {
     "data": {
      "text/plain": [
       "27"
      ]
     },
     "execution_count": 32,
     "metadata": {},
     "output_type": "execute_result"
    }
   ],
   "source": [
    "PATH_TO_REF_SET = 'data/hla_ref_set.class_ii.csv'\n",
    "ref_set_class_ii = pd.read_csv(PATH_TO_REF_SET,header=None)\n",
    "\n",
    "# create a list of alleles\n",
    "class_ii_list = ref_set_class_ii[0].tolist()\n",
    "len(class_ii_list)"
   ]
  },
  {
   "cell_type": "markdown",
   "metadata": {},
   "source": [
    "### 1.1.2 Data Exploration"
   ]
  },
  {
   "cell_type": "code",
   "execution_count": 33,
   "metadata": {
    "id": "u5s9dwi6vUXw"
   },
   "outputs": [
    {
     "name": "stdout",
     "output_type": "stream",
     "text": [
      "(44914, 6)\n"
     ]
    },
    {
     "data": {
      "text/html": [
       "<div>\n",
       "<style scoped>\n",
       "    .dataframe tbody tr th:only-of-type {\n",
       "        vertical-align: middle;\n",
       "    }\n",
       "\n",
       "    .dataframe tbody tr th {\n",
       "        vertical-align: top;\n",
       "    }\n",
       "\n",
       "    .dataframe thead th {\n",
       "        text-align: right;\n",
       "    }\n",
       "</style>\n",
       "<table border=\"1\" class=\"dataframe\">\n",
       "  <thead>\n",
       "    <tr style=\"text-align: right;\">\n",
       "      <th></th>\n",
       "      <th>species</th>\n",
       "      <th>mhc</th>\n",
       "      <th>peptide_length</th>\n",
       "      <th>sequence</th>\n",
       "      <th>IC50 (nM concentration)</th>\n",
       "      <th>pIC50</th>\n",
       "    </tr>\n",
       "  </thead>\n",
       "  <tbody>\n",
       "    <tr>\n",
       "      <th>0</th>\n",
       "      <td>human</td>\n",
       "      <td>HLA-DPA1*01/DPB1*0401</td>\n",
       "      <td>15</td>\n",
       "      <td>AKKYFAATQFEPLAA</td>\n",
       "      <td>1.000000</td>\n",
       "      <td>9.000000</td>\n",
       "    </tr>\n",
       "    <tr>\n",
       "      <th>1</th>\n",
       "      <td>human</td>\n",
       "      <td>HLA-DPA1*01/DPB1*0401</td>\n",
       "      <td>15</td>\n",
       "      <td>AWVDSGAQLGELYYA</td>\n",
       "      <td>8389.261745</td>\n",
       "      <td>5.076276</td>\n",
       "    </tr>\n",
       "  </tbody>\n",
       "</table>\n",
       "</div>"
      ],
      "text/plain": [
       "  species                    mhc  peptide_length         sequence  \\\n",
       "0   human  HLA-DPA1*01/DPB1*0401              15  AKKYFAATQFEPLAA   \n",
       "1   human  HLA-DPA1*01/DPB1*0401              15  AWVDSGAQLGELYYA   \n",
       "\n",
       "   IC50 (nM concentration)     pIC50  \n",
       "0                 1.000000  9.000000  \n",
       "1              8389.261745  5.076276  "
      ]
     },
     "execution_count": 33,
     "metadata": {},
     "output_type": "execute_result"
    }
   ],
   "source": [
    "# read in data\n",
    "PATH_TO_MHC2_DATA = 'data/MHCII_Binding_Data.csv'\n",
    "MHC2_df = pd.read_csv(PATH_TO_MHC2_DATA) \n",
    "print(MHC2_df.shape)\n",
    "MHC2_df.head(2)"
   ]
  },
  {
   "cell_type": "code",
   "execution_count": 34,
   "metadata": {},
   "outputs": [],
   "source": [
    "# rename allele column to match MHC1 data\n",
    "MHC2_df = MHC2_df.rename(columns={\"mhc\": \"HLA Allele\"})"
   ]
  },
  {
   "cell_type": "code",
   "execution_count": 35,
   "metadata": {},
   "outputs": [
    {
     "name": "stdout",
     "output_type": "stream",
     "text": [
      "26\n"
     ]
    }
   ],
   "source": [
    "# check whether there are other alleles present we don't care about (there aren't)\n",
    "print(len(MHC2_df['HLA Allele'].unique()))"
   ]
  },
  {
   "cell_type": "code",
   "execution_count": 36,
   "metadata": {},
   "outputs": [
    {
     "name": "stdout",
     "output_type": "stream",
     "text": [
      "(43000, 6)\n"
     ]
    },
    {
     "data": {
      "text/plain": [
       "HLA-DRB1*0101              6427\n",
       "HLA-DRB1*1101              1794\n",
       "HLA-DRB1*0401              1769\n",
       "HLA-DRB5*0101              1769\n",
       "HLA-DRB1*1501              1769\n",
       "HLA-DRB1*0701              1745\n",
       "HLA-DQA1*0101/DQB1*0501    1739\n",
       "HLA-DQA1*0301/DQB1*0302    1719\n",
       "HLA-DRB1*0301              1715\n",
       "HLA-DQA1*0401/DQB1*0402    1701\n",
       "HLA-DQA1*0501/DQB1*0301    1689\n",
       "HLA-DQA1*0501/DQB1*0201    1658\n",
       "HLA-DQA1*0102/DQB1*0602    1629\n",
       "HLA-DRB1*0405              1582\n",
       "HLA-DRB1*1302              1580\n",
       "HLA-DRB4*0101              1521\n",
       "HLA-DRB1*0802              1520\n",
       "HLA-DRB1*0901              1520\n",
       "HLA-DRB3*0101              1501\n",
       "HLA-DPA1*0201/DPB1*0501    1410\n",
       "HLA-DPA1*0301/DPB1*0402    1407\n",
       "HLA-DPA1*0103/DPB1*0201    1404\n",
       "HLA-DPA1*0201/DPB1*0101    1399\n",
       "HLA-DPA1*0103/DPB1*0401    1033\n",
       "Name: HLA Allele, dtype: int64"
      ]
     },
     "execution_count": 36,
     "metadata": {},
     "output_type": "execute_result"
    }
   ],
   "source": [
    "# filter out records which are not for the 27 listed alleles\n",
    "MHC2_filtered_df = MHC2_df[MHC2_df['HLA Allele'].isin(class_ii_list)]\n",
    "print(MHC2_filtered_df.shape)\n",
    "\n",
    "# check how much data we have per allele\n",
    "MHC2_filtered_df['HLA Allele'].value_counts()"
   ]
  },
  {
   "cell_type": "code",
   "execution_count": 37,
   "metadata": {},
   "outputs": [
    {
     "name": "stdout",
     "output_type": "stream",
     "text": [
      "24\n"
     ]
    },
    {
     "data": {
      "text/plain": [
       "['HLA-DRB1*1201', 'HLA-DRB3*0202', 'HLA-DPA1*0201/DPB1*1401']"
      ]
     },
     "execution_count": 37,
     "metadata": {},
     "output_type": "execute_result"
    }
   ],
   "source": [
    "# determine if any of the 27 alleles are not represented\n",
    "print(len(MHC2_filtered_df['HLA Allele'].value_counts()))\n",
    "\n",
    "# determine which are missing\n",
    "included = list(MHC2_filtered_df['HLA Allele'].value_counts().index)\n",
    "missing = [each for each in class_ii_list if each not in included]\n",
    "missing"
   ]
  },
  {
   "cell_type": "code",
   "execution_count": 38,
   "metadata": {},
   "outputs": [
    {
     "data": {
      "text/plain": [
       "9        17\n",
       "10       89\n",
       "11      116\n",
       "12       78\n",
       "13      425\n",
       "14      352\n",
       "15    40106\n",
       "16     1092\n",
       "17      348\n",
       "18      106\n",
       "19      121\n",
       "20      120\n",
       "21       18\n",
       "23        4\n",
       "37        8\n",
       "Name: peptide_length, dtype: int64"
      ]
     },
     "execution_count": 38,
     "metadata": {},
     "output_type": "execute_result"
    }
   ],
   "source": [
    "# check how much data we have per sequence length\n",
    "MHC2_filtered_df['peptide_length'].value_counts().sort_index()"
   ]
  },
  {
   "cell_type": "code",
   "execution_count": 39,
   "metadata": {},
   "outputs": [
    {
     "name": "stdout",
     "output_type": "stream",
     "text": [
      "0\n"
     ]
    }
   ],
   "source": [
    "# check whether we have any duplicate rows for a given sequence\n",
    "MHC2_grouped_df = MHC2_filtered_df.groupby(by=['HLA Allele','sequence']).count()\n",
    "MHC2_grouped_df = MHC2_grouped_df[MHC2_grouped_df['species'] > 1]\n",
    "print(MHC2_grouped_df.shape[0])"
   ]
  },
  {
   "cell_type": "code",
   "execution_count": 40,
   "metadata": {
    "scrolled": false
   },
   "outputs": [
    {
     "name": "stdout",
     "output_type": "stream",
     "text": [
      "24\n",
      "\n",
      "15    40106\n",
      "Name: peptide_length, dtype: int64\n"
     ]
    },
    {
     "data": {
      "text/plain": [
       "HLA-DRB1*0101              6340\n",
       "HLA-DRB1*1101              1701\n",
       "HLA-DRB1*0401              1699\n",
       "HLA-DRB5*0101              1684\n",
       "HLA-DRB1*1501              1684\n",
       "HLA-DRB1*0701              1675\n",
       "HLA-DRB1*0301              1658\n",
       "HLA-DQA1*0401/DQB1*0402    1579\n",
       "HLA-DQA1*0501/DQB1*0301    1573\n",
       "HLA-DQA1*0102/DQB1*0602    1515\n",
       "HLA-DRB1*0405              1512\n",
       "HLA-DRB1*1302              1511\n",
       "HLA-DRB1*0901              1498\n",
       "HLA-DRB4*0101              1498\n",
       "HLA-DRB1*0802              1498\n",
       "HLA-DRB3*0101              1463\n",
       "HLA-DQA1*0101/DQB1*0501    1306\n",
       "HLA-DPA1*0301/DPB1*0402    1293\n",
       "HLA-DPA1*0103/DPB1*0201    1292\n",
       "HLA-DQA1*0501/DQB1*0201    1290\n",
       "HLA-DPA1*0201/DPB1*0501    1287\n",
       "HLA-DQA1*0301/DQB1*0302    1286\n",
       "HLA-DPA1*0201/DPB1*0101    1285\n",
       "HLA-DPA1*0103/DPB1*0401     979\n",
       "Name: HLA Allele, dtype: int64"
      ]
     },
     "execution_count": 40,
     "metadata": {},
     "output_type": "execute_result"
    }
   ],
   "source": [
    "# check whether there is data for each allele for sequences of only length 15\n",
    "MHC2_length_15_df = MHC2_filtered_df[MHC2_filtered_df['peptide_length']==15]\n",
    "print(len(MHC2_length_15_df['HLA Allele'].unique()))\n",
    "print()\n",
    "\n",
    "# check how much data we have per sequence length\n",
    "print(MHC2_length_15_df['peptide_length'].value_counts().sort_index())\n",
    "\n",
    "# check how much data we have per allele\n",
    "MHC2_length_15_df['HLA Allele'].value_counts()"
   ]
  },
  {
   "cell_type": "markdown",
   "metadata": {},
   "source": [
    "### 1.1.2 Data Prep\n",
    "Most of the data is concentrated with sequences of length 15. Let's use only sequences of length 15 to build the regression model."
   ]
  },
  {
   "cell_type": "code",
   "execution_count": 41,
   "metadata": {},
   "outputs": [
    {
     "data": {
      "text/plain": [
       "(40106, 6)"
      ]
     },
     "execution_count": 41,
     "metadata": {},
     "output_type": "execute_result"
    }
   ],
   "source": [
    "# read in data\n",
    "PATH_TO_MHC2_DATA = 'data/MHCII_Binding_Data.csv'\n",
    "MHC2_df = pd.read_csv(PATH_TO_MHC2_DATA) \n",
    "\n",
    "# rename allele column to match MHC1 data\n",
    "MHC2_df = MHC2_df.rename(columns={\"mhc\": \"HLA Allele\"})\n",
    "\n",
    "# filter out records with sequence length not equal to 15\n",
    "MHC2_df = MHC2_df[MHC2_df['peptide_length']==15]\n",
    "\n",
    "# filter out records which are not for the 27 listed alleles\n",
    "MHC2_df = MHC2_df[MHC2_df['HLA Allele'].isin(class_ii_list)]\n",
    "\n",
    "MHC2_df.shape"
   ]
  },
  {
   "cell_type": "code",
   "execution_count": 42,
   "metadata": {
    "scrolled": true
   },
   "outputs": [
    {
     "data": {
      "text/html": [
       "<div>\n",
       "<style scoped>\n",
       "    .dataframe tbody tr th:only-of-type {\n",
       "        vertical-align: middle;\n",
       "    }\n",
       "\n",
       "    .dataframe tbody tr th {\n",
       "        vertical-align: top;\n",
       "    }\n",
       "\n",
       "    .dataframe thead th {\n",
       "        text-align: right;\n",
       "    }\n",
       "</style>\n",
       "<table border=\"1\" class=\"dataframe\">\n",
       "  <thead>\n",
       "    <tr style=\"text-align: right;\">\n",
       "      <th></th>\n",
       "      <th>species</th>\n",
       "      <th>HLA Allele</th>\n",
       "      <th>peptide_length</th>\n",
       "      <th>sequence</th>\n",
       "      <th>IC50 (nM concentration)</th>\n",
       "      <th>pIC50</th>\n",
       "      <th>seq_standard</th>\n",
       "    </tr>\n",
       "  </thead>\n",
       "  <tbody>\n",
       "    <tr>\n",
       "      <th>1337</th>\n",
       "      <td>human</td>\n",
       "      <td>HLA-DPA1*0103/DPB1*0201</td>\n",
       "      <td>15</td>\n",
       "      <td>EKKYFAATCFEPLAA</td>\n",
       "      <td>1.000000</td>\n",
       "      <td>9.000000</td>\n",
       "      <td>EKKYFAATCFEPLAA</td>\n",
       "    </tr>\n",
       "    <tr>\n",
       "      <th>1338</th>\n",
       "      <td>human</td>\n",
       "      <td>HLA-DPA1*0103/DPB1*0201</td>\n",
       "      <td>15</td>\n",
       "      <td>EKKYLAATQFEPLAA</td>\n",
       "      <td>1.186663</td>\n",
       "      <td>8.925673</td>\n",
       "      <td>EKKYLAATQFEPLAA</td>\n",
       "    </tr>\n",
       "  </tbody>\n",
       "</table>\n",
       "</div>"
      ],
      "text/plain": [
       "     species               HLA Allele  peptide_length         sequence  \\\n",
       "1337   human  HLA-DPA1*0103/DPB1*0201              15  EKKYFAATCFEPLAA   \n",
       "1338   human  HLA-DPA1*0103/DPB1*0201              15  EKKYLAATQFEPLAA   \n",
       "\n",
       "      IC50 (nM concentration)     pIC50     seq_standard  \n",
       "1337                 1.000000  9.000000  EKKYFAATCFEPLAA  \n",
       "1338                 1.186663  8.925673  EKKYLAATQFEPLAA  "
      ]
     },
     "execution_count": 42,
     "metadata": {},
     "output_type": "execute_result"
    }
   ],
   "source": [
    "# add a column with the 15-length sequence for every record\n",
    "MHC2_df.loc[:, ('seq_standard')]=MHC2_df.apply(lambda x: hp.get_n_length_seq(x['sequence'],15),axis=1)\n",
    "MHC2_df.head(2)"
   ]
  },
  {
   "cell_type": "markdown",
   "metadata": {},
   "source": [
    "### 1.1.2. Encode the sequence into feature columns\n",
    "- Split 15 sequence into one column per letter.\n",
    "- Use ASCII number for each letter to convert to numerical data to use for regression."
   ]
  },
  {
   "cell_type": "code",
   "execution_count": 43,
   "metadata": {
    "scrolled": true
   },
   "outputs": [
    {
     "data": {
      "text/html": [
       "<div>\n",
       "<style scoped>\n",
       "    .dataframe tbody tr th:only-of-type {\n",
       "        vertical-align: middle;\n",
       "    }\n",
       "\n",
       "    .dataframe tbody tr th {\n",
       "        vertical-align: top;\n",
       "    }\n",
       "\n",
       "    .dataframe thead th {\n",
       "        text-align: right;\n",
       "    }\n",
       "</style>\n",
       "<table border=\"1\" class=\"dataframe\">\n",
       "  <thead>\n",
       "    <tr style=\"text-align: right;\">\n",
       "      <th></th>\n",
       "      <th>species</th>\n",
       "      <th>HLA Allele</th>\n",
       "      <th>peptide_length</th>\n",
       "      <th>sequence</th>\n",
       "      <th>IC50 (nM concentration)</th>\n",
       "      <th>pIC50</th>\n",
       "      <th>seq_standard</th>\n",
       "      <th>s1</th>\n",
       "      <th>s2</th>\n",
       "      <th>s3</th>\n",
       "      <th>...</th>\n",
       "      <th>s6</th>\n",
       "      <th>s7</th>\n",
       "      <th>s8</th>\n",
       "      <th>s9</th>\n",
       "      <th>s10</th>\n",
       "      <th>s11</th>\n",
       "      <th>s12</th>\n",
       "      <th>s13</th>\n",
       "      <th>s14</th>\n",
       "      <th>s15</th>\n",
       "    </tr>\n",
       "  </thead>\n",
       "  <tbody>\n",
       "    <tr>\n",
       "      <th>1337</th>\n",
       "      <td>human</td>\n",
       "      <td>HLA-DPA1*0103/DPB1*0201</td>\n",
       "      <td>15</td>\n",
       "      <td>EKKYFAATCFEPLAA</td>\n",
       "      <td>1.000000</td>\n",
       "      <td>9.000000</td>\n",
       "      <td>EKKYFAATCFEPLAA</td>\n",
       "      <td>69</td>\n",
       "      <td>75</td>\n",
       "      <td>75</td>\n",
       "      <td>...</td>\n",
       "      <td>65</td>\n",
       "      <td>65</td>\n",
       "      <td>84</td>\n",
       "      <td>67</td>\n",
       "      <td>70</td>\n",
       "      <td>69</td>\n",
       "      <td>80</td>\n",
       "      <td>76</td>\n",
       "      <td>65</td>\n",
       "      <td>65</td>\n",
       "    </tr>\n",
       "    <tr>\n",
       "      <th>1338</th>\n",
       "      <td>human</td>\n",
       "      <td>HLA-DPA1*0103/DPB1*0201</td>\n",
       "      <td>15</td>\n",
       "      <td>EKKYLAATQFEPLAA</td>\n",
       "      <td>1.186663</td>\n",
       "      <td>8.925673</td>\n",
       "      <td>EKKYLAATQFEPLAA</td>\n",
       "      <td>69</td>\n",
       "      <td>75</td>\n",
       "      <td>75</td>\n",
       "      <td>...</td>\n",
       "      <td>65</td>\n",
       "      <td>65</td>\n",
       "      <td>84</td>\n",
       "      <td>81</td>\n",
       "      <td>70</td>\n",
       "      <td>69</td>\n",
       "      <td>80</td>\n",
       "      <td>76</td>\n",
       "      <td>65</td>\n",
       "      <td>65</td>\n",
       "    </tr>\n",
       "  </tbody>\n",
       "</table>\n",
       "<p>2 rows × 22 columns</p>\n",
       "</div>"
      ],
      "text/plain": [
       "     species               HLA Allele  peptide_length         sequence  \\\n",
       "1337   human  HLA-DPA1*0103/DPB1*0201              15  EKKYFAATCFEPLAA   \n",
       "1338   human  HLA-DPA1*0103/DPB1*0201              15  EKKYLAATQFEPLAA   \n",
       "\n",
       "      IC50 (nM concentration)     pIC50     seq_standard  s1  s2  s3  ...  s6  \\\n",
       "1337                 1.000000  9.000000  EKKYFAATCFEPLAA  69  75  75  ...  65   \n",
       "1338                 1.186663  8.925673  EKKYLAATQFEPLAA  69  75  75  ...  65   \n",
       "\n",
       "      s7  s8  s9  s10  s11  s12  s13  s14  s15  \n",
       "1337  65  84  67   70   69   80   76   65   65  \n",
       "1338  65  84  81   70   69   80   76   65   65  \n",
       "\n",
       "[2 rows x 22 columns]"
      ]
     },
     "execution_count": 43,
     "metadata": {},
     "output_type": "execute_result"
    }
   ],
   "source": [
    "# encode letter as ASCII number\n",
    "col_list = ['s1','s2','s3','s4','s5','s6','s7','s8','s9','s10','s11','s12','s13','s14','s15']\n",
    "MHC2_df[col_list]=MHC2_df.seq_standard.apply(lambda x: pd.Series([ord(char) for char in str(x)]))\n",
    "MHC2_df.head(2)"
   ]
  },
  {
   "cell_type": "markdown",
   "metadata": {},
   "source": [
    "### Data Visualization\n",
    "To help see what type of regression model best fits the data."
   ]
  },
  {
   "cell_type": "code",
   "execution_count": 44,
   "metadata": {
    "scrolled": false
   },
   "outputs": [
    {
     "data": {
      "image/png": "[encoded data removed]",
      "text/plain": [
       "<Figure size 1440x720 with 27 Axes>"
      ]
     },
     "metadata": {
      "needs_background": "light"
     },
     "output_type": "display_data"
    }
   ],
   "source": [
    "hp.plot_separate_alleles(MHC2_df, class_ii_list)"
   ]
  },
  {
   "cell_type": "code",
   "execution_count": 45,
   "metadata": {},
   "outputs": [
    {
     "name": "stdout",
     "output_type": "stream",
     "text": [
      "CPU times: user 17.7 s, sys: 189 ms, total: 17.9 s\n",
      "Wall time: 18.3 s\n"
     ]
    }
   ],
   "source": [
    "%%time\n",
    "\n",
    "# for each of the 27 alleles, learn a separate regression model\n",
    "regression_scores_mhc2 = []\n",
    "for allele in class_ii_list:\n",
    "    m,s = hp.score_regression_model(MHC2_df,allele)\n",
    "    result = [allele,round(s,5),round(m,5)] # std_dev before mean\n",
    "    regression_scores_mhc2.append(result)"
   ]
  },
  {
   "cell_type": "code",
   "execution_count": 46,
   "metadata": {},
   "outputs": [
    {
     "name": "stdout",
     "output_type": "stream",
     "text": [
      "(27, 3)\n"
     ]
    },
    {
     "data": {
      "text/html": [
       "<div>\n",
       "<style scoped>\n",
       "    .dataframe tbody tr th:only-of-type {\n",
       "        vertical-align: middle;\n",
       "    }\n",
       "\n",
       "    .dataframe tbody tr th {\n",
       "        vertical-align: top;\n",
       "    }\n",
       "\n",
       "    .dataframe thead th {\n",
       "        text-align: right;\n",
       "    }\n",
       "</style>\n",
       "<table border=\"1\" class=\"dataframe\">\n",
       "  <thead>\n",
       "    <tr style=\"text-align: right;\">\n",
       "      <th></th>\n",
       "      <th>Allele</th>\n",
       "      <th>Std_dev</th>\n",
       "      <th>R_2</th>\n",
       "    </tr>\n",
       "  </thead>\n",
       "  <tbody>\n",
       "    <tr>\n",
       "      <th>0</th>\n",
       "      <td>HLA-DRB1*0101</td>\n",
       "      <td>0.00681</td>\n",
       "      <td>0.03898</td>\n",
       "    </tr>\n",
       "    <tr>\n",
       "      <th>1</th>\n",
       "      <td>HLA-DRB1*0301</td>\n",
       "      <td>0.01134</td>\n",
       "      <td>0.05103</td>\n",
       "    </tr>\n",
       "    <tr>\n",
       "      <th>2</th>\n",
       "      <td>HLA-DRB1*0401</td>\n",
       "      <td>0.00723</td>\n",
       "      <td>0.04783</td>\n",
       "    </tr>\n",
       "    <tr>\n",
       "      <th>3</th>\n",
       "      <td>HLA-DRB1*0405</td>\n",
       "      <td>0.01512</td>\n",
       "      <td>0.05965</td>\n",
       "    </tr>\n",
       "    <tr>\n",
       "      <th>4</th>\n",
       "      <td>HLA-DRB1*0701</td>\n",
       "      <td>0.00835</td>\n",
       "      <td>0.06770</td>\n",
       "    </tr>\n",
       "    <tr>\n",
       "      <th>5</th>\n",
       "      <td>HLA-DRB1*0802</td>\n",
       "      <td>0.00459</td>\n",
       "      <td>0.03301</td>\n",
       "    </tr>\n",
       "    <tr>\n",
       "      <th>6</th>\n",
       "      <td>HLA-DRB1*0901</td>\n",
       "      <td>0.01660</td>\n",
       "      <td>0.01775</td>\n",
       "    </tr>\n",
       "    <tr>\n",
       "      <th>7</th>\n",
       "      <td>HLA-DRB1*1101</td>\n",
       "      <td>0.01132</td>\n",
       "      <td>0.07161</td>\n",
       "    </tr>\n",
       "    <tr>\n",
       "      <th>8</th>\n",
       "      <td>HLA-DRB1*1201</td>\n",
       "      <td>0.00000</td>\n",
       "      <td>0.00000</td>\n",
       "    </tr>\n",
       "    <tr>\n",
       "      <th>9</th>\n",
       "      <td>HLA-DRB1*1302</td>\n",
       "      <td>0.01044</td>\n",
       "      <td>0.04899</td>\n",
       "    </tr>\n",
       "    <tr>\n",
       "      <th>10</th>\n",
       "      <td>HLA-DRB1*1501</td>\n",
       "      <td>0.00731</td>\n",
       "      <td>0.05998</td>\n",
       "    </tr>\n",
       "    <tr>\n",
       "      <th>11</th>\n",
       "      <td>HLA-DRB3*0101</td>\n",
       "      <td>0.00436</td>\n",
       "      <td>0.01177</td>\n",
       "    </tr>\n",
       "    <tr>\n",
       "      <th>12</th>\n",
       "      <td>HLA-DRB3*0202</td>\n",
       "      <td>0.00000</td>\n",
       "      <td>0.00000</td>\n",
       "    </tr>\n",
       "    <tr>\n",
       "      <th>13</th>\n",
       "      <td>HLA-DRB4*0101</td>\n",
       "      <td>0.02139</td>\n",
       "      <td>0.08917</td>\n",
       "    </tr>\n",
       "    <tr>\n",
       "      <th>14</th>\n",
       "      <td>HLA-DRB5*0101</td>\n",
       "      <td>0.00539</td>\n",
       "      <td>0.04597</td>\n",
       "    </tr>\n",
       "    <tr>\n",
       "      <th>15</th>\n",
       "      <td>HLA-DQA1*0501/DQB1*0201</td>\n",
       "      <td>0.04435</td>\n",
       "      <td>0.30175</td>\n",
       "    </tr>\n",
       "    <tr>\n",
       "      <th>16</th>\n",
       "      <td>HLA-DQA1*0501/DQB1*0301</td>\n",
       "      <td>0.05656</td>\n",
       "      <td>0.31591</td>\n",
       "    </tr>\n",
       "    <tr>\n",
       "      <th>17</th>\n",
       "      <td>HLA-DQA1*0301/DQB1*0302</td>\n",
       "      <td>0.01996</td>\n",
       "      <td>0.17956</td>\n",
       "    </tr>\n",
       "    <tr>\n",
       "      <th>18</th>\n",
       "      <td>HLA-DQA1*0401/DQB1*0402</td>\n",
       "      <td>0.04000</td>\n",
       "      <td>0.39487</td>\n",
       "    </tr>\n",
       "    <tr>\n",
       "      <th>19</th>\n",
       "      <td>HLA-DQA1*0101/DQB1*0501</td>\n",
       "      <td>0.04744</td>\n",
       "      <td>0.27361</td>\n",
       "    </tr>\n",
       "    <tr>\n",
       "      <th>20</th>\n",
       "      <td>HLA-DQA1*0102/DQB1*0602</td>\n",
       "      <td>0.03282</td>\n",
       "      <td>0.24995</td>\n",
       "    </tr>\n",
       "    <tr>\n",
       "      <th>21</th>\n",
       "      <td>HLA-DPA1*0201/DPB1*0101</td>\n",
       "      <td>0.04406</td>\n",
       "      <td>0.54587</td>\n",
       "    </tr>\n",
       "    <tr>\n",
       "      <th>22</th>\n",
       "      <td>HLA-DPA1*0103/DPB1*0201</td>\n",
       "      <td>0.05688</td>\n",
       "      <td>0.55443</td>\n",
       "    </tr>\n",
       "    <tr>\n",
       "      <th>23</th>\n",
       "      <td>HLA-DPA1*0103/DPB1*0401</td>\n",
       "      <td>0.04022</td>\n",
       "      <td>0.14371</td>\n",
       "    </tr>\n",
       "    <tr>\n",
       "      <th>24</th>\n",
       "      <td>HLA-DPA1*0301/DPB1*0402</td>\n",
       "      <td>0.03519</td>\n",
       "      <td>0.54148</td>\n",
       "    </tr>\n",
       "    <tr>\n",
       "      <th>25</th>\n",
       "      <td>HLA-DPA1*0201/DPB1*0501</td>\n",
       "      <td>0.03278</td>\n",
       "      <td>0.51146</td>\n",
       "    </tr>\n",
       "    <tr>\n",
       "      <th>26</th>\n",
       "      <td>HLA-DPA1*0201/DPB1*1401</td>\n",
       "      <td>0.00000</td>\n",
       "      <td>0.00000</td>\n",
       "    </tr>\n",
       "  </tbody>\n",
       "</table>\n",
       "</div>"
      ],
      "text/plain": [
       "                     Allele  Std_dev      R_2\n",
       "0             HLA-DRB1*0101  0.00681  0.03898\n",
       "1             HLA-DRB1*0301  0.01134  0.05103\n",
       "2             HLA-DRB1*0401  0.00723  0.04783\n",
       "3             HLA-DRB1*0405  0.01512  0.05965\n",
       "4             HLA-DRB1*0701  0.00835  0.06770\n",
       "5             HLA-DRB1*0802  0.00459  0.03301\n",
       "6             HLA-DRB1*0901  0.01660  0.01775\n",
       "7             HLA-DRB1*1101  0.01132  0.07161\n",
       "8             HLA-DRB1*1201  0.00000  0.00000\n",
       "9             HLA-DRB1*1302  0.01044  0.04899\n",
       "10            HLA-DRB1*1501  0.00731  0.05998\n",
       "11            HLA-DRB3*0101  0.00436  0.01177\n",
       "12            HLA-DRB3*0202  0.00000  0.00000\n",
       "13            HLA-DRB4*0101  0.02139  0.08917\n",
       "14            HLA-DRB5*0101  0.00539  0.04597\n",
       "15  HLA-DQA1*0501/DQB1*0201  0.04435  0.30175\n",
       "16  HLA-DQA1*0501/DQB1*0301  0.05656  0.31591\n",
       "17  HLA-DQA1*0301/DQB1*0302  0.01996  0.17956\n",
       "18  HLA-DQA1*0401/DQB1*0402  0.04000  0.39487\n",
       "19  HLA-DQA1*0101/DQB1*0501  0.04744  0.27361\n",
       "20  HLA-DQA1*0102/DQB1*0602  0.03282  0.24995\n",
       "21  HLA-DPA1*0201/DPB1*0101  0.04406  0.54587\n",
       "22  HLA-DPA1*0103/DPB1*0201  0.05688  0.55443\n",
       "23  HLA-DPA1*0103/DPB1*0401  0.04022  0.14371\n",
       "24  HLA-DPA1*0301/DPB1*0402  0.03519  0.54148\n",
       "25  HLA-DPA1*0201/DPB1*0501  0.03278  0.51146\n",
       "26  HLA-DPA1*0201/DPB1*1401  0.00000  0.00000"
      ]
     },
     "execution_count": 46,
     "metadata": {},
     "output_type": "execute_result"
    }
   ],
   "source": [
    "mhc2_regression_scores_df = pd.DataFrame(data=regression_scores_mhc2,columns = ['Allele','Std_dev','R_2'])\n",
    "print(mhc2_regression_scores_df.shape)\n",
    "mhc2_regression_scores_df\n"
   ]
  },
  {
   "cell_type": "markdown",
   "metadata": {
    "id": "jsZ01KB4z5F1"
   },
   "source": [
    "# Part 1.1.2: Answer\n",
    "\n",
    "*Briefly describe your approach for creating the regression model. Include the table as the output of the cell above or embed it as an image in this cell.*\n",
    "\n",
    "#### Data\n",
    "First, I filtered out records from the MHC II binding data which were not for the alleles listed in the reference set. Additionally, I noticed that the vast majority of data for MHC II centered around a peptide length of 15, so I chose to limit my model to predicting pIC50 values for peptides of length 15. This allowed me to filter out records from the MHC II binding data which were not of length 15.\n",
    "\n",
    "From there, I encoded the peptide sequence by splitting each amino acid letter into its own column, the calculating the ASCII value for each letter. This results in a feature set of numerical values for the regression model.\n",
    "\n",
    "\n",
    "#### Regression Model\n",
    "I decided to create a different model for each allele in the reference set, rather than include the allele in the feature data. This ensures that the line of best fit found by the model is not influenced by the allele itself. By creating separate models, I prevent any relationship between alleles from manipulating the fit.\n",
    "\n",
    "I then attempted to visualize the features with PCA. This helped inform me that the data isn't really linear in nature. I chose to use a Random Forest regression for this reason, rather than use linear regression."
   ]
  },
  {
   "cell_type": "markdown",
   "metadata": {},
   "source": [
    "# Part 1.2 Binding Prediction"
   ]
  },
  {
   "cell_type": "markdown",
   "metadata": {
    "id": "Db2o_wyqz-as"
   },
   "source": [
    "# Part 1.2: Work \n",
    "\n",
    "*TODO: Split protein sequence from `SARS-CoV2-Spike.fasta` into \n",
    "overlapping k-mers for your choice of k.*\n",
    "\n",
    "*TIP: The `.fasta` files usually start with some header describing the meta information. \n",
    "     The code below skips the header and joins the lines of the sequence to obtain\n",
    "     the full protein sequence.*"
   ]
  },
  {
   "cell_type": "markdown",
   "metadata": {},
   "source": [
    "### 1.2. Read spike sequence"
   ]
  },
  {
   "cell_type": "code",
   "execution_count": 47,
   "metadata": {
    "id": "kzXgM_DV6aQm",
    "scrolled": true
   },
   "outputs": [
    {
     "data": {
      "text/plain": [
       "1273"
      ]
     },
     "execution_count": 47,
     "metadata": {},
     "output_type": "execute_result"
    }
   ],
   "source": [
    "# build character array of full sequence\n",
    "PATH_TO_FASTA = 'data/SARS-CoV2-Spike.fasta' \n",
    "spike_sequence = hp.get_spike_sequence(PATH_TO_FASTA)\n",
    "spike_array = hp.get_spike_array(spike_sequence)\n",
    "assert len(spike_sequence) == len(spike_array)\n",
    "len(spike_array)"
   ]
  },
  {
   "cell_type": "markdown",
   "metadata": {},
   "source": [
    "### 1.2. Split spike sequence into k-mers\n",
    "My method is to use a generator to return k-mers one at a time, rather than need to store all k-mers in a data structure. The generator terminates when there all k-mers have been generated."
   ]
  },
  {
   "cell_type": "markdown",
   "metadata": {
    "id": "GOAqN8JC0HSI"
   },
   "source": [
    "## Part 1.2: Answer\n",
    "\n",
    "*What was the value of k you used to create the overlapping k-mers?*\n",
    "\n",
    "For MHC I data, I used a value of k=9. For MHC II data, I used a value of k=15."
   ]
  },
  {
   "cell_type": "markdown",
   "metadata": {
    "id": "SGFj7y3Cw0x-"
   },
   "source": [
    "# Part 1.3"
   ]
  },
  {
   "cell_type": "markdown",
   "metadata": {
    "id": "aFOsp1636vJC"
   },
   "source": [
    "## Part 1.3: Work\n",
    "\n",
    "*TODO:* \n",
    "1. *Apply the models you created in part 1.1 to the k-mers you created in part 1.2.*\n",
    "2. *Store the returned labeled (MHC, peptide) pairs where the label is the predicted pIC50 value.*\n",
    "3. *Determine the min, max, mean, median, and std. dev of the predicted pIC50 values for each MHC class.*"
   ]
  },
  {
   "cell_type": "markdown",
   "metadata": {},
   "source": [
    "### 1.3. Define algorithm for estimating pIC50 for Spike Protein k-mers\n",
    "Generate a set of labeled (MHC,peptide) pairs, where the label is the predicted pIC50 value."
   ]
  },
  {
   "cell_type": "code",
   "execution_count": 48,
   "metadata": {},
   "outputs": [
    {
     "data": {
      "text/plain": [
       "array(['C', 'V', 'A', 'D', 'Y', 'S', 'V', 'L', 'Y'], dtype='<U1')"
      ]
     },
     "execution_count": 48,
     "metadata": {},
     "output_type": "execute_result"
    }
   ],
   "source": [
    "seq = hp.get_spike_array('CVADYSVLY')\n",
    "seq"
   ]
  },
  {
   "cell_type": "code",
   "execution_count": 49,
   "metadata": {},
   "outputs": [
    {
     "name": "stdout",
     "output_type": "stream",
     "text": [
      "test predict_pIC50_values_for_allele()\n",
      "(5, 16)\n"
     ]
    }
   ],
   "source": [
    "print('test predict_pIC50_values_for_allele()')\n",
    "\n",
    "test_df = MHC1_df[MHC1_df['seq_standard'] == 'CVADYSVLY']\n",
    "print(test_df.shape)\n",
    "\n",
    "# train model for this allele\n",
    "test_model = hp.train_regresson_model(MHC1_df,'HLA-A*01:01')\n",
    "\n",
    "test_results = hp.predict_pIC50_values_for_allele(test_df, test_model, 'HLA-A*01:01', spike_array, 9)"
   ]
  },
  {
   "cell_type": "code",
   "execution_count": 50,
   "metadata": {
    "scrolled": false
   },
   "outputs": [
    {
     "name": "stdout",
     "output_type": "stream",
     "text": [
      "('HLA-A*01:01', 'CVADYSVLY', 360, 368, 7.874116247000001)\n"
     ]
    }
   ],
   "source": [
    "for each in test_results:\n",
    "    if round(each[4],2) == 7.87:\n",
    "        print(each)"
   ]
  },
  {
   "cell_type": "code",
   "execution_count": 51,
   "metadata": {},
   "outputs": [
    {
     "name": "stdout",
     "output_type": "stream",
     "text": [
      "test predict_pIC50_values()\n",
      "['N' 'C' 'V' 'A' 'D' 'Y' 'S' 'V' 'L' 'Y']\n",
      "['HLA-A*01:01', 'HLA-A*02:01']\n",
      "..\n",
      "4\n"
     ]
    }
   ],
   "source": [
    "print('test predict_pIC50_values()')\n",
    "\n",
    "# test for 2 k-mers to ensure the correct number of results are found\n",
    "test_array = spike_array[359:369]\n",
    "print(test_array)\n",
    "\n",
    "test_alleles = class_i_list[:2]\n",
    "print(test_alleles)\n",
    "\n",
    "test_results = hp.predict_pIC50_values(test_alleles,MHC1_df,test_array,9)\n",
    "print(len(test_results))"
   ]
  },
  {
   "cell_type": "code",
   "execution_count": 52,
   "metadata": {},
   "outputs": [
    {
     "data": {
      "text/plain": [
       "[('HLA-A*01:01', 'NCVADYSVL', 0, 8, 4.691983176635914),\n",
       " ('HLA-A*01:01', 'CVADYSVLY', 1, 9, 7.874116247000001),\n",
       " ('HLA-A*02:01', 'NCVADYSVL', 0, 8, 5.292583412663456),\n",
       " ('HLA-A*02:01', 'CVADYSVLY', 1, 9, 5.3770656045923655)]"
      ]
     },
     "execution_count": 52,
     "metadata": {},
     "output_type": "execute_result"
    }
   ],
   "source": [
    "test_results"
   ]
  },
  {
   "cell_type": "code",
   "execution_count": 53,
   "metadata": {},
   "outputs": [
    {
     "name": "stdout",
     "output_type": "stream",
     "text": [
      "...........................\n",
      "48\n"
     ]
    }
   ],
   "source": [
    "# test for MHC II to ensure the correct number of results are found\n",
    "# 3 alleles currently have no data so there should be 48 results\n",
    "\n",
    "test_array = spike_array[:16]\n",
    "test_results = hp.predict_pIC50_values(class_ii_list,MHC2_df,test_array,15)\n",
    "print(len(test_results))"
   ]
  },
  {
   "cell_type": "markdown",
   "metadata": {},
   "source": [
    "### 1.3. Apply pIC50 Algorithm to MHC I  data"
   ]
  },
  {
   "cell_type": "code",
   "execution_count": null,
   "metadata": {
    "scrolled": true
   },
   "outputs": [
    {
     "name": "stdout",
     "output_type": "stream",
     "text": [
      ".............."
     ]
    }
   ],
   "source": [
    "%%time\n",
    "\n",
    "# 9 min for RandomForest with max_depth=2, random_state=0\n",
    "results_mhc1 = hp.predict_pIC50_values(class_i_list,MHC1_df,spike_array,9)"
   ]
  },
  {
   "cell_type": "code",
   "execution_count": null,
   "metadata": {},
   "outputs": [],
   "source": [
    "# validate result\n",
    "\n",
    "# There are 1265 9-mers over sequence of 1273 letters\n",
    "expected = 27 * 1265\n",
    "actual = len(results_mhc1)\n",
    "assert expected == actual,actual"
   ]
  },
  {
   "cell_type": "code",
   "execution_count": null,
   "metadata": {},
   "outputs": [],
   "source": [
    "# check whether results are reasonable\n",
    "for each in results_mhc1:\n",
    "    if each[1] == 'CVADYSVLY':\n",
    "        print(each)"
   ]
  },
  {
   "cell_type": "markdown",
   "metadata": {},
   "source": [
    "### 1.3. Apply pIC50 Algorithm to MHC II  data"
   ]
  },
  {
   "cell_type": "code",
   "execution_count": null,
   "metadata": {},
   "outputs": [],
   "source": [
    "%%time\n",
    "\n",
    "# 6 min for RandomForest with max_depth=2, random_state=0\n",
    "results_mhc2 = hp.predict_pIC50_values(class_ii_list,MHC2_df,spike_array,15)"
   ]
  },
  {
   "cell_type": "code",
   "execution_count": null,
   "metadata": {},
   "outputs": [],
   "source": [
    "# validate result\n",
    "\n",
    "# There are 1259 15-mers over sequence of 1273 letters\n",
    "# 3 alleles have no data\n",
    "expected = 24 * 1259\n",
    "actual = len(results_mhc2)\n",
    "assert expected == actual,actual"
   ]
  },
  {
   "cell_type": "markdown",
   "metadata": {},
   "source": [
    "### 1.3. Calculate metrics for table"
   ]
  },
  {
   "cell_type": "code",
   "execution_count": null,
   "metadata": {},
   "outputs": [],
   "source": [
    "# calculate metrics for MHC I\n",
    "mch1_metrics = hp.calculate_metrics('I',results_mhc1)\n",
    "\n",
    "# calculate metrics for MHC II\n",
    "mch2_metrics = hp.calculate_metrics('II',results_mhc2)\n",
    "\n",
    "# format results into a table\n",
    "data_1_3 = [mch1_metrics,mch2_metrics]\n",
    "df_1_3 = pd.DataFrame(data=data_1_3,columns = ['MHC Class','Min','Max','Mean','Median','Std Dev'])\n",
    "df_1_3"
   ]
  },
  {
   "cell_type": "markdown",
   "metadata": {
    "id": "P1G9VKcH6x7H"
   },
   "source": [
    "## Part 1.3: Answer\n",
    "\n",
    "*If you would like to manually fill in the table provided in the write-up, please replace the empty table below with a screenshot of your filled in table. Alternatively, you could display the table as the output of the above cell as long as it contains all of the relevant information.*"
   ]
  },
  {
   "cell_type": "markdown",
   "metadata": {
    "id": "SGFj7y3Cw0x-"
   },
   "source": [
    "# Part 1.4"
   ]
  },
  {
   "cell_type": "markdown",
   "metadata": {
    "id": "rOYd4bHF8z9S"
   },
   "source": [
    "## Part 1.4: Work\n",
    "*TODO:*\n",
    "1. *Devise and implement an algorithm for selecting SARS-CoV-2 peptides from the set you created in part 1.3 that maximizes the ‘allele coverage’. Please refer to the write-up for definitions and constraints.*\n",
    "2. *Use your algorithm to compute the values required for the tables in the cell below.*"
   ]
  },
  {
   "cell_type": "markdown",
   "metadata": {},
   "source": [
    "### 1.4 Min Selection Algorithm Part 1 - Build Coverage DataFrame\n",
    "- Take the predictions made for all k-mers in the spike sequence\n",
    "- Limit predictions to peptides with pIC50 value greater than p_min\n",
    "- Create a DataFrame which lists \n",
    "  - peptide k-mer from spike sequence\n",
    "  - start position in the spike sequence\n",
    "  - end position in the spike sequence\n",
    "  - for each allele in the reference set\n",
    "    - a flag which denotes if the allele is covered by this peptide \n",
    "    - (1 if covered, 0 otherwise)\n",
    "  - count column which sums all allele flags for this peptide"
   ]
  },
  {
   "cell_type": "code",
   "execution_count": null,
   "metadata": {},
   "outputs": [],
   "source": [
    "\n",
    "\n",
    "\n",
    "print('test get_list_above_p_min()')\n",
    "print(len(results_mhc1))\n",
    "print()\n",
    "print(len(get_list_above_p_min(results_mhc1,9.0)))\n",
    "print(len(get_list_above_p_min(results_mhc1,8.0)))\n",
    "print(len(get_list_above_p_min(results_mhc1,7.0)))\n",
    "print(len(get_list_above_p_min(results_mhc1,6.0)))\n",
    "print(len(get_list_above_p_min(results_mhc1,5.0)))\n",
    "print(len(get_list_above_p_min(results_mhc1,4.0)))\n",
    "print(len(get_list_above_p_min(results_mhc1,3.0)))\n",
    "\n",
    "get_list_above_p_min(results_mhc1,9.0)"
   ]
  },
  {
   "cell_type": "code",
   "execution_count": null,
   "metadata": {},
   "outputs": [],
   "source": [
    "\n",
    "\n",
    "\n",
    "print('test get_peptide_coverage_dict()')\n",
    "test_above = get_list_above_p_min(results_mhc1,9.0)\n",
    "test_d = get_peptide_coverage_dict(test_above)\n",
    "test_d"
   ]
  },
  {
   "cell_type": "code",
   "execution_count": null,
   "metadata": {},
   "outputs": [],
   "source": [
    "\n",
    "\n",
    "\n",
    "print('test build_row_df()')\n",
    "test_row = build_row_df(test_d,'FIAGLIAIV_1219_1227',class_i_list)\n",
    "test_row.T"
   ]
  },
  {
   "cell_type": "code",
   "execution_count": null,
   "metadata": {},
   "outputs": [],
   "source": [
    "\n",
    "\n",
    "\n",
    "print('test build_peptide_coverage_df()')\n",
    "test_coverage_df = build_peptide_coverage_df(test_d, class_i_list)\n",
    "test_coverage_df"
   ]
  },
  {
   "cell_type": "code",
   "execution_count": null,
   "metadata": {},
   "outputs": [],
   "source": [
    "\n",
    "    \n",
    "print('test get_peptide_coverage_df()')\n",
    "\n",
    "test_coverage_df = get_peptide_coverage_df(results_mhc1,10.0,class_i_list)\n",
    "print(len(test_coverage_df))\n",
    "\n",
    "test_coverage_df = get_peptide_coverage_df(results_mhc1,9.0,class_i_list)\n",
    "test_coverage_df"
   ]
  },
  {
   "cell_type": "markdown",
   "metadata": {},
   "source": [
    "### 1.4 Min Selection Algorithm Part 2 - Select Peptides for Minimum Coverage\n",
    "Choose peptides which cover as many alleles as possible."
   ]
  },
  {
   "cell_type": "code",
   "execution_count": null,
   "metadata": {},
   "outputs": [],
   "source": [
    "# check coverage of alleles mhc 1\n",
    "\n",
    "for p_min in [3.0,6.0,9.0]:\n",
    "    mhc1_coverage_df = get_peptide_coverage_df(results_mhc1,p_min,class_i_list)\n",
    "    a = pd.DataFrame(mhc1_coverage_df.drop(['peptide','start','end','count'],axis=1).sum(axis=0).sort_values(),columns=['total']).reset_index()\n",
    "    a.rename(columns={'index':'HLA Allele'})\n",
    "    print(a[a['total'] > 0].shape[0])"
   ]
  },
  {
   "cell_type": "code",
   "execution_count": null,
   "metadata": {},
   "outputs": [],
   "source": [
    "# check coverage of alleles mhc 2\n",
    "\n",
    "for p_min in [3.0,6.0,9.0]:\n",
    "    df_coverage_mhc2 = get_peptide_coverage_df(results_mhc2,p_min,class_ii_list)\n",
    "    a = pd.DataFrame(df_coverage_mhc2.drop(['peptide','start','end','count'],axis=1).sum(axis=0).sort_values(),columns=['total']).reset_index()\n",
    "    a.rename(columns={'index':'HLA Allele'})\n",
    "    print(a[a['total'] > 0].shape[0])"
   ]
  },
  {
   "cell_type": "code",
   "execution_count": null,
   "metadata": {},
   "outputs": [],
   "source": [
    "\n",
    "\n",
    "\n",
    "print('test get_allele_least_coverage()')\n",
    "test_coverage_df.head().T"
   ]
  },
  {
   "cell_type": "code",
   "execution_count": null,
   "metadata": {},
   "outputs": [],
   "source": [
    "get_allele_least_coverage(test_coverage_df.head(),['HLA-A*02:06','HLA-A*02:03','HLA-A*68:02'])"
   ]
  },
  {
   "cell_type": "code",
   "execution_count": null,
   "metadata": {},
   "outputs": [],
   "source": [
    "\n",
    "    \n",
    "\n",
    "print('test find_first_peptide_cover()')\n",
    "test_result = find_first_peptide_cover(test_coverage_df,'HLA-A*68:02')\n",
    "test_result['peptide'][0]"
   ]
  },
  {
   "cell_type": "code",
   "execution_count": null,
   "metadata": {},
   "outputs": [],
   "source": [
    "\n",
    "\n",
    "\n",
    "print('test update_selected_peptides()')\n",
    "\n",
    "test_selected_df = test_coverage_df[test_coverage_df['peptide']=='FIAGLIAIV']\n",
    "test_selected_df.T"
   ]
  },
  {
   "cell_type": "code",
   "execution_count": null,
   "metadata": {},
   "outputs": [],
   "source": [
    "# select the peptide with the highest coverage count\n",
    "test_selected_peptide = test_selected_df.head(1)\n",
    "test_peptide_dict = test_selected_peptide.to_dict()\n",
    "test_peptide_dict['peptide'][0]"
   ]
  },
  {
   "cell_type": "code",
   "execution_count": null,
   "metadata": {},
   "outputs": [],
   "source": [
    "test_selected = []\n",
    "update_selected_peptides(test_peptide_dict,test_selected)\n",
    "test_selected"
   ]
  },
  {
   "cell_type": "code",
   "execution_count": null,
   "metadata": {},
   "outputs": [],
   "source": [
    "print('test update_uncovered_alleles()')\n",
    "test_uncovered = class_i_list.copy()\n",
    "print(*test_uncovered,sep=', ')\n",
    "print()\n",
    "test_num_covered = 0\n",
    "print('uncovered',len(test_uncovered))\n",
    "\n",
    "test_num_covered = update_uncovered_alleles(test_peptide_dict,test_uncovered,test_num_covered)\n",
    "print('covered',test_num_covered)\n",
    "print('uncovered',len(test_uncovered))\n",
    "print(*test_uncovered,sep=', ')"
   ]
  },
  {
   "cell_type": "code",
   "execution_count": null,
   "metadata": {
    "scrolled": true
   },
   "outputs": [],
   "source": [
    "\n",
    "    \n",
    "    \n",
    "print('test get_nonoverlapping_peptides()')\n",
    "test_coverage_df = get_peptide_coverage_df(results_mhc1,3.0,class_i_list)\n",
    "test_coverage_df\n",
    "\n",
    "print(test_coverage_df.shape)\n",
    "r1,r2,retained = get_nonoverlapping_peptides(test_peptide_dict,test_coverage_df)\n",
    "print(retained.shape)"
   ]
  },
  {
   "cell_type": "code",
   "execution_count": null,
   "metadata": {},
   "outputs": [],
   "source": [
    "r1.sort_values(by='start')"
   ]
  },
  {
   "cell_type": "code",
   "execution_count": null,
   "metadata": {},
   "outputs": [],
   "source": [
    "r2.sort_values(by='start')"
   ]
  },
  {
   "cell_type": "code",
   "execution_count": null,
   "metadata": {},
   "outputs": [],
   "source": [
    "\n"
   ]
  },
  {
   "cell_type": "code",
   "execution_count": null,
   "metadata": {},
   "outputs": [],
   "source": [
    "len(class_i_list)"
   ]
  },
  {
   "cell_type": "code",
   "execution_count": null,
   "metadata": {
    "scrolled": false
   },
   "outputs": [],
   "source": [
    "print('test select_peptides()')\n",
    "\n",
    "test_coverage_df = get_peptide_coverage_df(results_mhc1,9.0,class_i_list)\n",
    "print(test_coverage_df.shape)\n",
    "\n",
    "test_num_covered,test_selected = select_peptides(test_coverage_df,class_i_list,10)\n",
    "print(test_num_covered)\n",
    "print(test_selected)"
   ]
  },
  {
   "cell_type": "code",
   "execution_count": null,
   "metadata": {},
   "outputs": [],
   "source": [
    "\n",
    "test_coverage_df.T"
   ]
  },
  {
   "cell_type": "markdown",
   "metadata": {},
   "source": [
    "### 1.4. Apply Min Selection Algorithm to MHC I predictions\n",
    "For all required design limits and p_min"
   ]
  },
  {
   "cell_type": "code",
   "execution_count": null,
   "metadata": {},
   "outputs": [],
   "source": [
    "design_limits = [10000,10,20]\n",
    "p_mins = [3.0,6.0,9.0]"
   ]
  },
  {
   "cell_type": "code",
   "execution_count": null,
   "metadata": {},
   "outputs": [],
   "source": []
  },
  {
   "cell_type": "code",
   "execution_count": null,
   "metadata": {},
   "outputs": [],
   "source": [
    "%%time\n",
    "\n",
    "# MHC I\n",
    "designs_mhc1, coverages_mhc1 = design_coverage(class_i_list, results_mhc1, design_limits, p_mins)"
   ]
  },
  {
   "cell_type": "code",
   "execution_count": null,
   "metadata": {},
   "outputs": [],
   "source": [
    "for design in designs_mhc1:\n",
    "    print(design)"
   ]
  },
  {
   "cell_type": "code",
   "execution_count": null,
   "metadata": {},
   "outputs": [],
   "source": [
    "# check results\n",
    "coverage_10_3_mhc1 = coverages_mhc1[3]\n",
    "coverage_10_3_mhc1[coverage_10_3_mhc1['peptide'] == 'MFVFLVLLP'].T"
   ]
  },
  {
   "cell_type": "code",
   "execution_count": null,
   "metadata": {
    "scrolled": false
   },
   "outputs": [],
   "source": [
    "# check results\n",
    "coverage_10_6_mhc1 = coverages_mhc1[4]\n",
    "coverage_10_6_mhc1[coverage_10_6_mhc1['peptide'].isin(['CVADYSVLY', 'QELGKYEQY', 'YYHKNNKSW', 'MTSCCSCLK', 'QPRTFLLKY', 'VVFLHVTYV'])].T\n"
   ]
  },
  {
   "cell_type": "code",
   "execution_count": null,
   "metadata": {},
   "outputs": [],
   "source": [
    "# check if missing alleles have coverage at that p_min\n",
    "missing_coverage = []\n",
    "for each in results_mhc1:\n",
    "    if each[0] in ['HLA-B*08:01','HLA-B*51:01'] and each[4] > 6.0:\n",
    "        missing_coverage.append(each)\n",
    "        \n",
    "len(missing_coverage)"
   ]
  },
  {
   "cell_type": "code",
   "execution_count": null,
   "metadata": {},
   "outputs": [],
   "source": [
    "# check results\n",
    "coverage_10_9_mhc1 = coverages_mhc1[5]\n",
    "coverage_10_9_mhc1[coverage_10_9_mhc1['peptide'].isin(['FIAGLIAIV', 'CVADYSVLY'])].T\n"
   ]
  },
  {
   "cell_type": "markdown",
   "metadata": {},
   "source": [
    "### 1.4. Apply Min Selection Algorithm to MHC II predictions\n",
    "For all required design limits and p_min"
   ]
  },
  {
   "cell_type": "code",
   "execution_count": null,
   "metadata": {},
   "outputs": [],
   "source": [
    "%%time\n",
    "\n",
    "# MHC II\n",
    "designs_mhc2, coverages_mhc2 = design_coverage(class_ii_list, results_mhc2, design_limits, p_mins)"
   ]
  },
  {
   "cell_type": "code",
   "execution_count": null,
   "metadata": {},
   "outputs": [],
   "source": [
    "for design in designs_mhc2:\n",
    "    print(design)"
   ]
  },
  {
   "cell_type": "markdown",
   "metadata": {},
   "source": [
    "### 1.4. Design Algorithm to Improve Coverage Fairness\n",
    "The min selection algorithm doesn't need 10 or 20 peptides to provides maximum coverage for an allele set. The minimum cover doesn't necessary result in equal distribution in allele coverage. \n",
    "\n",
    "With the remaining space in each design, I can add peptides to make the allele coverage more equal."
   ]
  },
  {
   "cell_type": "code",
   "execution_count": null,
   "metadata": {},
   "outputs": [],
   "source": [
    "\n",
    "    \n",
    "    # sum up coverage for each allele\n",
    "    \n",
    "    "
   ]
  },
  {
   "cell_type": "code",
   "execution_count": null,
   "metadata": {},
   "outputs": [],
   "source": [
    "print('test get_design_coverage()')\n",
    "\n",
    "test_coverage_df = coverages_mhc1[5]\n",
    "test_design = designs_mhc1[5][3]\n",
    "\n",
    "get_design_coverage(test_design, test_coverage_df)\n"
   ]
  },
  {
   "cell_type": "code",
   "execution_count": null,
   "metadata": {},
   "outputs": [],
   "source": [
    "print('test calculate_allele_distribution()')\n",
    "\n",
    "test_dist_df = get_allele_distribution_df(test_design,test_coverage_df)\n",
    "test_dist_df"
   ]
  },
  {
   "cell_type": "code",
   "execution_count": null,
   "metadata": {},
   "outputs": [],
   "source": [
    "test_dist_df.plot.scatter(x='Count', y='HLA Allele',figsize=(3,5))"
   ]
  },
  {
   "cell_type": "code",
   "execution_count": null,
   "metadata": {},
   "outputs": [],
   "source": [
    "\n",
    "design_10_6_mhc1= designs_mhc1[4][3]\n",
    "coverage_10_6_mhc1 = coverages_mhc1[4]\n",
    "\n",
    "dist_10_6_mhc1 = get_allele_distribution_df(design_10_6_mhc1,coverage_10_6_mhc1)"
   ]
  },
  {
   "cell_type": "code",
   "execution_count": null,
   "metadata": {
    "scrolled": true
   },
   "outputs": [],
   "source": [
    "dist_10_6_mhc1.plot.scatter(x='Count', y='HLA Allele',figsize=(3,5))"
   ]
  },
  {
   "cell_type": "code",
   "execution_count": null,
   "metadata": {},
   "outputs": [],
   "source": []
  },
  {
   "cell_type": "code",
   "execution_count": null,
   "metadata": {},
   "outputs": [],
   "source": []
  },
  {
   "cell_type": "code",
   "execution_count": null,
   "metadata": {},
   "outputs": [],
   "source": [
    "\n",
    "\n"
   ]
  },
  {
   "cell_type": "code",
   "execution_count": null,
   "metadata": {},
   "outputs": [],
   "source": [
    "print('test select_allele_with_min_coverage()')\n",
    "\n",
    "dist_10_6_mhc1 = get_allele_distribution_df(design_10_6_mhc1,coverage_10_6_mhc1)\n",
    "test_allele = select_allele_with_min_coverage(dist_10_6_mhc1,['HLA-A*01:01'])\n",
    "test_allele"
   ]
  },
  {
   "cell_type": "code",
   "execution_count": null,
   "metadata": {},
   "outputs": [],
   "source": [
    "print('test get_available_coverage()')\n",
    "\n",
    "coverage_10_9_mhc1 = coverages_mhc1[5]\n",
    "test_coverage_df = get_available_coverage(['FIAGLIAIV', 'CVADYSVLY'], coverage_10_9_mhc1)\n",
    "test_coverage_df"
   ]
  },
  {
   "cell_type": "code",
   "execution_count": null,
   "metadata": {},
   "outputs": [],
   "source": [
    "print('test update_allele_distribution()')\n",
    "\n",
    "test_selected_peptide = find_first_peptide_cover(test_coverage_df,'HLA-A*02:03')\n",
    "dist_10_6_mhc1[dist_10_6_mhc1['HLA Allele'] == 'HLA-A*02:03']"
   ]
  },
  {
   "cell_type": "code",
   "execution_count": null,
   "metadata": {},
   "outputs": [],
   "source": [
    "update_allele_distribution(dist_10_6_mhc1, test_selected_peptide)\n",
    "dist_10_6_mhc1[dist_10_6_mhc1['HLA Allele'] == 'HLA-A*02:03']"
   ]
  },
  {
   "cell_type": "code",
   "execution_count": null,
   "metadata": {},
   "outputs": [],
   "source": []
  },
  {
   "cell_type": "code",
   "execution_count": null,
   "metadata": {},
   "outputs": [],
   "source": [
    "coverages_mhc1[5]"
   ]
  },
  {
   "cell_type": "code",
   "execution_count": null,
   "metadata": {
    "scrolled": false
   },
   "outputs": [],
   "source": [
    "print('test increase_design_fairness()')\n",
    "\n",
    "test_design = ['FIAGLIAIV', 'CVADYSVLY']\n",
    "test_coverage = coverages_mhc1[5]\n",
    "test_design_limit = 10\n",
    "\n",
    "increase_design_fairness(test_design, test_coverage, test_design_limit)"
   ]
  },
  {
   "cell_type": "code",
   "execution_count": null,
   "metadata": {},
   "outputs": [],
   "source": []
  },
  {
   "cell_type": "code",
   "execution_count": null,
   "metadata": {},
   "outputs": [],
   "source": [
    "test_designs_mhc1_after = execute_design_supplement('I',[designs_mhc1[5]], [coverages_mhc1[5]])\n",
    "\n",
    "# check if coverage improved\n",
    "test_design = designs_mhc1[5][3]\n",
    "test_dist_10_9_mhc1 = get_allele_distribution_df(test_design,coverages_mhc1[5])\n",
    "test_dist_10_9_mhc1.plot.scatter(x='Count', y='HLA Allele',figsize=(3,5))"
   ]
  },
  {
   "cell_type": "code",
   "execution_count": null,
   "metadata": {},
   "outputs": [],
   "source": [
    "# check if coverage improved\n",
    "test_design = test_designs_mhc1_after[0][3]\n",
    "test_dist_10_9_mhc1 = get_allele_distribution_df(test_design,coverages_mhc1[5])\n",
    "test_dist_10_9_mhc1.plot.scatter(x='Count', y='HLA Allele',figsize=(3,5))"
   ]
  },
  {
   "cell_type": "code",
   "execution_count": null,
   "metadata": {},
   "outputs": [],
   "source": [
    "test_designs_mhc1_after = execute_design_supplement('I',[designs_mhc1[4]], [coverages_mhc1[4]])\n",
    "\n",
    "# check if coverage improved\n",
    "test_design = designs_mhc1[4][3]\n",
    "test_dist_10_6_mhc1 = get_allele_distribution_df(test_design,coverages_mhc1[4])\n",
    "test_dist_10_6_mhc1.plot.scatter(x='Count', y='HLA Allele',figsize=(3,5))"
   ]
  },
  {
   "cell_type": "code",
   "execution_count": null,
   "metadata": {},
   "outputs": [],
   "source": [
    "test_design = test_designs_mhc1_after[0][3]\n",
    "test_dist_10_6_mhc1 = get_allele_distribution_df(test_design,coverages_mhc1[4])\n",
    "test_dist_10_6_mhc1.plot.scatter(x='Count', y='HLA Allele',figsize=(3,5))"
   ]
  },
  {
   "cell_type": "code",
   "execution_count": null,
   "metadata": {},
   "outputs": [],
   "source": [
    "test_designs_mhc1_after = execute_design_supplement('I',[designs_mhc1[3]], [coverages_mhc1[3]])\n",
    "\n",
    "# check if coverage improved\n",
    "test_design = designs_mhc1[3][3]\n",
    "test_dist_10_3_mhc1 = get_allele_distribution_df(test_design,coverages_mhc1[3])\n",
    "test_dist_10_3_mhc1.plot.scatter(x='Count', y='HLA Allele',figsize=(3,5))"
   ]
  },
  {
   "cell_type": "code",
   "execution_count": null,
   "metadata": {},
   "outputs": [],
   "source": [
    "test_design = test_designs_mhc1_after[0][3]\n",
    "test_dist_10_3_mhc1 = get_allele_distribution_df(test_design,coverages_mhc1[3])\n",
    "test_dist_10_3_mhc1.plot.scatter(x='Count', y='HLA Allele',figsize=(3,5))"
   ]
  },
  {
   "cell_type": "code",
   "execution_count": null,
   "metadata": {},
   "outputs": [],
   "source": [
    "# check results\n",
    "coverage_10_3_mhc1 = coverages_mhc1[3]\n",
    "coverage_10_3_mhc1[coverage_10_3_mhc1['peptide'].isin(['MFVFLVLLP', 'FVFLVLLPL', 'VSSQCVNLT', 'TRTQLPPAY', 'TNSFTRGVY', 'YPDKVFRSS', 'VLHSTQDLF', 'LPFFSNVTW', 'FHAIHVSGT', 'NGTKRFDNP'])].T\n"
   ]
  },
  {
   "cell_type": "markdown",
   "metadata": {},
   "source": [
    "### Execute Design Supplement algorithm on MHC I Designs"
   ]
  },
  {
   "cell_type": "code",
   "execution_count": null,
   "metadata": {},
   "outputs": [],
   "source": [
    "# only for designs with a design limit\n",
    "designs_mhc1_after = execute_design_supplement('I',designs_mhc1[3:], coverages_mhc1[3:])"
   ]
  },
  {
   "cell_type": "markdown",
   "metadata": {},
   "source": [
    "### Execute Design Supplement algorithm on MHC II Designs"
   ]
  },
  {
   "cell_type": "code",
   "execution_count": null,
   "metadata": {
    "scrolled": true
   },
   "outputs": [],
   "source": [
    "# only for designs with a design limit\n",
    "designs_mhc2_after = execute_design_supplement('II',designs_mhc2[3:], coverages_mhc2[3:])"
   ]
  },
  {
   "cell_type": "code",
   "execution_count": null,
   "metadata": {},
   "outputs": [],
   "source": [
    "\n",
    "    "
   ]
  },
  {
   "cell_type": "code",
   "execution_count": null,
   "metadata": {},
   "outputs": [],
   "source": [
    "combined_designs_mhc1 = designs_mhc1_after + designs_mhc1[:3]\n",
    "combined_design_10_6_mhc1 = combined_designs_mhc1[1][3]\n",
    "\n",
    "coverage_10_6_mhc1 = coverages_mhc1[4]\n",
    "get_uncovered_alleles(combined_design_10_6_mhc1, coverage_10_6_mhc1, class_i_list)"
   ]
  },
  {
   "cell_type": "code",
   "execution_count": null,
   "metadata": {},
   "outputs": [],
   "source": [
    "for each in combined_designs_mhc1:\n",
    "    print(each)"
   ]
  },
  {
   "cell_type": "markdown",
   "metadata": {},
   "source": [
    "### 1.4. Format MHC 1 Results into table"
   ]
  },
  {
   "cell_type": "code",
   "execution_count": null,
   "metadata": {
    "scrolled": false
   },
   "outputs": [],
   "source": [
    "results_formatted_mhc1 = []\n",
    "combined_designs_mhc1 = designs_mhc1[:3] + designs_mhc1_after\n",
    "for i,design in enumerate(combined_designs_mhc1):\n",
    "    # unpack tuple\n",
    "    design_limit, p_min, n, selected = design\n",
    "    \n",
    "    # calculate coverage percent\n",
    "    coverage = float(n) / len(class_i_list)\n",
    "    \n",
    "    if design_limit == 10000:\n",
    "        design_limit = 'INF'\n",
    "        \n",
    "    uncovered_alleles = get_uncovered_alleles(selected,coverages_mhc1[i],class_i_list)\n",
    "        \n",
    "    new_result = [design_limit,p_min,len(selected),coverage,uncovered_alleles]\n",
    "    results_formatted_mhc1.append(new_result)\n",
    "\n",
    "col_list = ['Design Limit','p_min','Actual Design Size','Coverage Fraction','Uncovered Alleles']\n",
    "pd.set_option('display.max_colwidth', None)\n",
    "pd.DataFrame(results_formatted_mhc1,columns=col_list)\n"
   ]
  },
  {
   "cell_type": "markdown",
   "metadata": {},
   "source": [
    "### 1.4. Format MHC 2 Results into table"
   ]
  },
  {
   "cell_type": "code",
   "execution_count": null,
   "metadata": {},
   "outputs": [],
   "source": [
    "results_formatted_mhc2 = []\n",
    "combined_designs_mhc2 = designs_mhc2[:3] + designs_mhc2_after\n",
    "for i,design in enumerate(combined_designs_mhc2):\n",
    "    # unpack tuple\n",
    "    design_limit, p_min, n, selected = design\n",
    "    \n",
    "    # calculate coverage percent\n",
    "    coverage = float(n) / len(class_ii_list)\n",
    "    \n",
    "    if design_limit == 10000:\n",
    "        design_limit = 'INF'\n",
    "        \n",
    "    uncovered_alleles = get_uncovered_alleles(selected,coverages_mhc2[i],class_ii_list)\n",
    "        \n",
    "    new_result = [design_limit,p_min,len(selected),coverage,uncovered_alleles]\n",
    "    results_formatted_mhc2.append(new_result)\n",
    "\n",
    "col_list = ['Design Limit','p_min','Actual Design Size','Coverage Fraction','Uncovered Alleles']\n",
    "pd.set_option('display.max_colwidth', None)\n",
    "pd.DataFrame(results_formatted_mhc2,columns=col_list)"
   ]
  },
  {
   "cell_type": "markdown",
   "metadata": {
    "id": "inHXdhtF9dhC"
   },
   "source": [
    "## Part 1.4: Answer\n",
    "\n",
    "* Briefly describe the algorithm you devised.*\n",
    "\n",
    "\n",
    "### Coverage DataFrame\n",
    "Build a data structure which summarizes the allele coverage for each valid peptide k-mer in the spike sequence. Valid k-mer's have a pIC50 greater than or equal to p_min.\n",
    "\n",
    "Steps:\n",
    "- Take the predictions made for all k-mers in the spike sequence.\n",
    "- Limit predictions to peptides with pIC50 value greater than p_min.\n",
    "- Create a DataFrame which lists:\n",
    "  - peptide k-mer from spike sequence\n",
    "  - start position in the spike sequence\n",
    "  - end position in the spike sequence\n",
    "  - for each allele in the reference set\n",
    "    - a flag which denotes if the allele is covered by this peptide \n",
    "    - 1 if covered, 0 otherwise\n",
    "  - count column which sums all allele flags for this peptide\n",
    "\n",
    "\n",
    "### Minimum Coverage\n",
    "Using the coverage DataFrame and design limit, generate a list of peptides which cover as many alleles as possible at least once.\n",
    "\n",
    "#### Select an Allele to Cover\n",
    "- Create a list of unselected alleles. \n",
    "  - The list contains all alleles in the reference set.\n",
    "- Select an allele with the minimum nonzero coverage count.\n",
    "  - Calculate the coverage count for each allele in the reference set using the coverage DataFrame. (Count is how many of the available peptide k-mers bind with that allele at the given p_min.)\n",
    "  - I start with the allele with the least coverage to ensure that allele is covered in the selection process. \n",
    "  - If an allele has a coverage count of zero, this means that no peptide k-mers which are currently available for selection can cover that allele, and it no longer makes sense to continue searching for matches for that allele.\n",
    "\n",
    "#### Select a Peptide\n",
    "- Find a peptide k-mer which covers that allele. Add that peptide to the list of selected peptides.\n",
    "  - The target allele was the minimum nonzero covered, so we are guaranteed to find a match.\n",
    "\n",
    "#### Update Coverage DataFrame and Uncovered Alleles\n",
    "- Remove any overlapping peptide k-mers from the list of available k-mers. \n",
    "  - This ensures that each peptide selected represents a different part of the spike sequence.\n",
    "- For each allele which the peptide covers, remove those alleles from the list of unselected alleles.\n",
    "  - This includes every allele the peptide covers, not just the target allele from the search.\n",
    "  - These alleles are now covered by at least one peptide and can be removed from consider.\n",
    "\n",
    "#### Repeat Selection Process\n",
    "- While the following criteria have not been met, continue the selection process:\n",
    "  - we have not reached the design limit for number of peptides selected\n",
    "  - we have uncovered alleles left in the list\n",
    "  - we have available peptides\n",
    "\n",
    "- Choose a remaining allele with the minimum coverage\n",
    "- Attempt to find a peptide to cover it.\n",
    "- If a peptide match is not found, remove the allele from list of uncovered and repeat the process.\n",
    "- If a peptide match is found, add that peptide to the design, remove overlapping available peptides, and remove all alleles from the uncovered list which that peptide covers.\n",
    "\n",
    "### Improve Coverage Fairness\n",
    "Now that we have a list of peptides which cover as many alleles as possible, we want to use any remaining space in the design to improve the coverage quality. Currently, some alleles are covered by many of the peptides in the design and some are covered by few (or one). For the least-covered alleles, the goal is to select additional peptides to cover those alleles another time and \"balance\" out the design as much as possible.\n",
    "\n",
    "#### Select an Allele to Cover\n",
    "- Determine the allele distribution of the current design.\n",
    "- Choose an allele which has the minimum nonzero coverage.\n",
    "\n",
    "#### Select a Peptide\n",
    "- From the list of peptides which are not currently in the design, attempt to select one which covers the target allele.\n",
    "- If a peptide k-mer match is not found, move to the next allele with least nonzero coverage.\n",
    "- If a peptide k-mer match is found, add it to the design, update the allele distribution of the design, and remove any overlapping peptides from the list of available peptide k-mers.\n",
    "\n",
    "#### Repeat Selection Process\n",
    "- Continue the process until any of the following criteria is met:\n",
    "  - we have reached the design limit\n",
    "  - we have no alleles left to target\n",
    "  - we have no available peptides left to select from\n",
    "\n",
    "If you would like to manually fill in the tables provided in the write-up, please replace the empty tables below with a screenshot of your filled in table. Alternatively, you could display the tables as the output of above cells as long as they contain all of the relevant information.\n",
    "\n"
   ]
  },
  {
   "cell_type": "markdown",
   "metadata": {},
   "source": [
    "# Part 1.5"
   ]
  },
  {
   "cell_type": "markdown",
   "metadata": {
    "id": "xdwPdZ0TALwh"
   },
   "source": [
    "## Part 1.5: Work\n",
    "\n",
    "*TODO:*\n",
    "1. *Determine criteria for selecting 20 peptides for your vaccine. You do not need to have an equal number of peptides ‘covering’ MHC I and MHC II alleles.*\n",
    "2. *Apply this criteria to obtain the required information for table in the cell below.* "
   ]
  },
  {
   "cell_type": "markdown",
   "metadata": {},
   "source": [
    "### 1.5. Visualize the results of 10 and 20 length designs with p_min 6 or more"
   ]
  },
  {
   "cell_type": "code",
   "execution_count": null,
   "metadata": {},
   "outputs": [],
   "source": [
    "def visualize_design(design,coverage_df):\n",
    "    '''\n",
    "    Plots the coverage count for each allele\n",
    "    in the design.\n",
    "    '''\n",
    "\n",
    "    dist_df = get_allele_distribution_df(design,coverage_df)\n",
    "    dist_df.plot.scatter(x='Count', y='HLA Allele',figsize=(3,5))"
   ]
  },
  {
   "cell_type": "code",
   "execution_count": null,
   "metadata": {
    "scrolled": false
   },
   "outputs": [],
   "source": [
    "for design in designs_mhc1:\n",
    "    print(design)\n",
    "\n",
    "print()\n",
    "    \n",
    "for design in designs_mhc1_after:\n",
    "\n",
    "    print(design)"
   ]
  },
  {
   "cell_type": "markdown",
   "metadata": {},
   "source": [
    "### 1.5. Visualize MHC I"
   ]
  },
  {
   "cell_type": "code",
   "execution_count": null,
   "metadata": {},
   "outputs": [],
   "source": [
    "# prep variables\n",
    "design_10_9_mhc1 = designs_mhc1_after[2][3]\n",
    "coverage_10_9_mhc1 = coverages_mhc1[5]\n",
    "print(coverage_10_9_mhc1.shape)\n",
    "\n",
    "design_10_6_mhc1 = designs_mhc1_after[1][3]\n",
    "coverage_10_6_mhc1 = coverages_mhc1[4]\n",
    "print(coverage_10_6_mhc1.shape)\n",
    "\n",
    "design_20_6_mhc1 = designs_mhc1_after[4][3]\n",
    "coverage_20_6_mhc1 = coverages_mhc1[7]\n",
    "print(coverage_20_6_mhc1.shape)"
   ]
  },
  {
   "cell_type": "code",
   "execution_count": null,
   "metadata": {},
   "outputs": [],
   "source": [
    "# visualize\n",
    "visualize_design(design_10_9_mhc1,coverage_10_9_mhc1)\n",
    "visualize_design(design_10_6_mhc1,coverage_10_6_mhc1)\n",
    "visualize_design(design_20_6_mhc1,coverage_20_6_mhc1)"
   ]
  },
  {
   "cell_type": "markdown",
   "metadata": {},
   "source": [
    "### 1.5. Visualize MHC II"
   ]
  },
  {
   "cell_type": "code",
   "execution_count": null,
   "metadata": {},
   "outputs": [],
   "source": [
    "# prep variables\n",
    "design_10_9_mhc2 = designs_mhc2_after[2][3]\n",
    "coverage_10_9_mhc2 = coverages_mhc2[5]\n",
    "print(coverage_10_9_mhc2.shape)\n",
    "\n",
    "design_10_6_mhc2 = designs_mhc2_after[1][3]\n",
    "coverage_10_6_mhc2 = coverages_mhc2[4]\n",
    "print(coverage_10_6_mhc2.shape)\n",
    "\n",
    "design_20_6_mhc2 = designs_mhc2_after[4][3]\n",
    "coverage_20_6_mhc2 = coverages_mhc2[7]\n",
    "print(coverage_20_6_mhc2.shape)"
   ]
  },
  {
   "cell_type": "code",
   "execution_count": null,
   "metadata": {},
   "outputs": [],
   "source": [
    "# visualize\n",
    "visualize_design(design_10_9_mhc2,coverage_10_9_mhc2)\n",
    "visualize_design(design_10_6_mhc2,coverage_10_6_mhc2)\n",
    "visualize_design(design_20_6_mhc2,coverage_20_6_mhc2)"
   ]
  },
  {
   "cell_type": "code",
   "execution_count": null,
   "metadata": {
    "scrolled": true
   },
   "outputs": [],
   "source": [
    "for design in designs_mhc1:\n",
    "    if design[0] <= 20 and design[1] >= 6.0:\n",
    "        print(design)\n",
    "    \n",
    "print()\n",
    "\n",
    "for design in designs_mhc2:\n",
    "    if design[0] <= 20 and design[1] >= 6.0:\n",
    "        print(design)"
   ]
  },
  {
   "cell_type": "code",
   "execution_count": null,
   "metadata": {},
   "outputs": [],
   "source": [
    "\n"
   ]
  },
  {
   "cell_type": "markdown",
   "metadata": {},
   "source": [
    "### 1.5. Select best 10 from MHC I"
   ]
  },
  {
   "cell_type": "code",
   "execution_count": null,
   "metadata": {},
   "outputs": [],
   "source": [
    "# MHC I\n",
    "supple_10_9 = designs_mhc1_after[2][3]\n",
    "orig_10_6 = designs_mhc1[4][3]\n",
    "supple_20_6 = designs_mhc1_after[4][3]\n",
    "coverage_supple_20_6 = coverages_mhc1[7]\n",
    "\n",
    "print(designs_mhc1_after[2])\n",
    "print()\n",
    "print(designs_mhc1[4])\n",
    "print()\n",
    "print(designs_mhc1_after[4])\n",
    "print()\n",
    "\n",
    "best_10_mhc1 = select_best_10(supple_10_9, orig_10_6, supple_20_6, coverage_supple_20_6)\n",
    "print(best_10_mhc1)"
   ]
  },
  {
   "cell_type": "markdown",
   "metadata": {},
   "source": [
    "### 1.5. Select best 10 from MHC II"
   ]
  },
  {
   "cell_type": "code",
   "execution_count": null,
   "metadata": {},
   "outputs": [],
   "source": [
    "# MHC II\n",
    "supple_10_9 = designs_mhc2_after[2][3]\n",
    "orig_10_6 = designs_mhc2[4][3]\n",
    "supple_20_6 = designs_mhc2_after[4][3]\n",
    "coverage_supple_20_6 = coverages_mhc2[7]\n",
    "\n",
    "print(designs_mhc2_after[2])\n",
    "print()\n",
    "print(designs_mhc2[4])\n",
    "print()\n",
    "print(designs_mhc2_after[4])\n",
    "print()\n",
    "\n",
    "best_10_mhc2 = select_best_10(supple_10_9, orig_10_6, supple_20_6, coverage_supple_20_6)\n",
    "print(best_10_mhc2)"
   ]
  },
  {
   "cell_type": "markdown",
   "metadata": {},
   "source": [
    "### 1.5. Format for table"
   ]
  },
  {
   "cell_type": "code",
   "execution_count": null,
   "metadata": {},
   "outputs": [],
   "source": []
  },
  {
   "cell_type": "code",
   "execution_count": null,
   "metadata": {},
   "outputs": [],
   "source": [
    "# MHC I\n",
    "build_list_mhc1 = build_1_5_list(0,'I',best_10_mhc1, results_mhc1)\n",
    "col_list = ['Peptide','Sequence','Target Allele','MHC Class','Predicted pIC50']\n",
    "build_list_mhc1_df = pd.DataFrame(build_list_mhc1, columns=col_list)\n",
    "print(build_list_mhc1_df.shape)"
   ]
  },
  {
   "cell_type": "code",
   "execution_count": null,
   "metadata": {},
   "outputs": [],
   "source": [
    "# MHC II\n",
    "build_list_mhc2 = build_1_5_list(10,'II',best_10_mhc2, results_mhc2)\n",
    "col_list = ['Peptide','Sequence','Target Allele','MHC Class','Predicted pIC50']\n",
    "build_list_mhc2_df = pd.DataFrame(build_list_mhc2, columns=col_list)\n",
    "print(build_list_mhc2_df.shape)"
   ]
  },
  {
   "cell_type": "code",
   "execution_count": null,
   "metadata": {},
   "outputs": [],
   "source": [
    "# combine\n",
    "build_list_df = pd.concat([build_list_mhc1_df,build_list_mhc2_df])\n",
    "print(build_list_df.shape)\n",
    "build_list_df.head()"
   ]
  },
  {
   "cell_type": "code",
   "execution_count": null,
   "metadata": {},
   "outputs": [],
   "source": [
    "# write to file\n",
    "build_list_df.to_csv(r'data/build_list.csv', index = False)"
   ]
  },
  {
   "cell_type": "code",
   "execution_count": null,
   "metadata": {},
   "outputs": [],
   "source": [
    "# read in file\n",
    "build_list_df = pd.read_csv(r'data/build_list.csv')\n",
    "print(build_list_df.shape)\n",
    "build_list_df.head()"
   ]
  },
  {
   "cell_type": "code",
   "execution_count": null,
   "metadata": {},
   "outputs": [],
   "source": [
    "# calculate total coverage\n",
    "class_i_and_ii_list = class_i_list + class_ii_list\n",
    "\n",
    "# filter list to only consider pIC50 >= 6.0\n",
    "build_list_filtered_df=build_list_df[build_list_df['Predicted pIC50'] >= 6.0]\n",
    "build_list_filtered_df\n",
    "\n",
    "build_list_filtered_df[['MHC Class','Target Allele']].value_counts().sort_index()\n"
   ]
  },
  {
   "cell_type": "markdown",
   "metadata": {
    "id": "UrzAwkPFAPac"
   },
   "source": [
    "## Part 1.5: Answer\n",
    "\n",
    "*Explain the criteria you used to select peptides.*\n",
    "\n",
    "#### 10 peptides for MHC I and 10 peptides for MHC II\n",
    "To provide the most even coverage across MHC I and MHC II, I chose to include 10 peptides from each of the MHC classes. To ensure adequate binding, I limited peptide choices to those with pIC50 <= 6.0.\n",
    "\n",
    "#### Peptides with the strongest binding affinity\n",
    "A pIC50 value of 9.0 is the highest possible binding affinity found in the MHC binding data we were provided. I wanted my design to include as many of these peptides as possible so that the vaccine would bind as well as possible to the MHC receptors. Even with the supplemented design to increase allele coverage, my designs only had a limited number of peptide k-mers which actually had a pIC50 = 9.0. I could include all of them without exceeding the limit of 10 peptides for a given MHC class.\n",
    "\n",
    "#### Peptides which provided minimum allele coverage\n",
    "In addition to strong binding affinity, I wanted a vaccine design to include as wide of allele coverage as possible. The minimum coverage designs with p_min = 6.0 covered almost as many alleles as with p_min=3.0, but had much stronger binding affinity, so I chose to limit my selection to p_min=6.0 or greater.\n",
    "\n",
    "The minimum coverage designs from 1.4 with p_min=6.0 represent a design in which all alleles are covered at least once. Design limits of 10 and 20 both resulted in the same minimum coverage set of peptides. I found that I could include all alleles from these minimum coverage designs without exceeding the limit of 10 peptides for a given MHC class.\n",
    "\n",
    "#### Peptides which provided the most coverage per peptide.\n",
    "With any remaining space in the 10-slot space for each MHC class, I selected peptides from the supplemented design with design_limit=20 and p_min=6.0 which covered the most number of peptides. This allowed me to select peptides which increased coverage for the most alleles possible.\n",
    "\n",
    "#### Summary\n",
    "I chose 10 peptides using this criteria for each MHC class. Together, these represent the 20 peptides from the spike protein I would select for the vaccine.\n",
    "\n",
    "What is the expected coverage of your design?\n",
    "\n",
    "\n",
    "Class|HLA Allele|Count\n",
    "---|---|---\n",
    "I|HLA-A*01:01|2\n",
    "I|HLA-A*02:01|3\n",
    "I|HLA-A*02:03|3\n",
    "I|HLA-A*02:06|2\n",
    "I|HLA-A*03:01|1\n",
    "I|HLA-A*11:01|1\n",
    "I|HLA-A*23:01|3\n",
    "I|HLA-A*24:02|3\n",
    "I|HLA-A*26:01|1\n",
    "I|HLA-A*30:01|5\n",
    "I|HLA-A*30:02|5\n",
    "I|HLA-A*31:01|2\n",
    "I|HLA-A*32:01|4\n",
    "I|HLA-A*33:01|2\n",
    "I|HLA-A*68:01|2\n",
    "I|HLA-A*68:02|3\n",
    "I|HLA-B*07:02|1\n",
    "I|HLA-B*15:01|4\n",
    "I|HLA-B*35:01|5\n",
    "I|HLA-B*40:01|1\n",
    "I|HLA-B*44:02|1\n",
    "I|HLA-B*44:03|1\n",
    "I|HLA-B*53:01|1\n",
    "I|HLA-B*57:01|1\n",
    "I|HLA-B*58:01|1\n",
    "I|HLA-B*51:01|0\n",
    "I|HLA-B*08:01|0\n",
    "II|HLA-DPA1*0103/DPB1*0201|7\n",
    "II|HLA-DPA1*0103/DPB1*0401|7\n",
    "II|HLA-DPA1*0201/DPB1*0101|7\n",
    "II|HLA-DPA1*0201/DPB1*0501|6\n",
    "II|HLA-DPA1*0301/DPB1*0402|6\n",
    "II|HLA-DQA1*0101/DQB1*0501|4\n",
    "II|HLA-DQA1*0102/DQB1*0602|1\n",
    "II|HLA-DQA1*0401/DQB1*0402|1\n",
    "II|HLA-DQA1*0501/DQB1*0201|5\n",
    "II|HLA-DQA1*0501/DQB1*0301|9\n",
    "II|HLA-DRB1*0101|10\n",
    "II|HLA-DRB1*0401|10\n",
    "II|HLA-DRB1*0405|10\n",
    "II|HLA-DRB1*0701|9\n",
    "II|HLA-DRB1*0901|10\n",
    "II|HLA-DRB1*1101|10\n",
    "II|HLA-DRB1*1302|3\n",
    "II|HLA-DRB1*1501|9\n",
    "II|HLA-DRB3*0101|1\n",
    "II|HLA-DRB4*0101|6\n",
    "II|HLA-DRB5*0101|8\n",
    "II|HLA-DPA1*0201/DPB1*1401|0\n",
    "II|HLA-DQA1*0301/DQB1*0302|0\n",
    "II|HLA-DRB1*0301|0\n",
    "II|HLA-DRB1*0802|0\n",
    "II|HLA-DRB1*1201|0\n",
    "II|HLA-DRB3*0202|0"
   ]
  },
  {
   "cell_type": "markdown",
   "metadata": {},
   "source": [
    "## 1.5. Peptide Table "
   ]
  },
  {
   "cell_type": "code",
   "execution_count": null,
   "metadata": {
    "scrolled": true
   },
   "outputs": [],
   "source": [
    "pd.set_option('display.max_rows', None)\n",
    "build_list_filtered_df"
   ]
  }
 ],
 "metadata": {
  "colab": {
   "collapsed_sections": [],
   "name": "02-518/02-718 HW 5 Template",
   "provenance": [],
   "toc_visible": true
  },
  "kernelspec": {
   "display_name": "Python 3",
   "language": "python",
   "name": "python3"
  },
  "language_info": {
   "codemirror_mode": {
    "name": "ipython",
    "version": 3
   },
   "file_extension": ".py",
   "mimetype": "text/x-python",
   "name": "python",
   "nbconvert_exporter": "python",
   "pygments_lexer": "ipython3",
   "version": "3.6.12"
  }
 },
 "nbformat": 4,
 "nbformat_minor": 1
}
